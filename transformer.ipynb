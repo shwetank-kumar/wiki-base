{
 "cells": [
  {
   "cell_type": "code",
   "execution_count": 8,
   "metadata": {},
   "outputs": [],
   "source": [
    "%load_ext autoreload\n",
    "%autoreload 2\n",
    "import sys\n",
    "sys.path.append('/Users/shwetank/code/makemore-utils-nbs')\n",
    "import torch\n",
    "import tiktoken"
   ]
  },
  {
   "cell_type": "code",
   "execution_count": 9,
   "metadata": {},
   "outputs": [],
   "source": [
    "# hyperparameters\n",
    "device = torch.device(\"mps\") if torch.backends.mps.is_available() else torch.device(\"cpu\")\n",
    "batch_size = 32\n",
    "block_size = 128\n",
    "max_iters = 100\n",
    "eval_iters = 10\n",
    "eval_interval = 10\n",
    "learning_rate = 1e-3\n",
    "emb_dim = 384\n",
    "num_heads = 6\n",
    "num_layers = 6\n",
    "dropout = 0.2\n",
    "linear_scaleup = 4\n",
    "temperature = 1\n"
   ]
  },
  {
   "cell_type": "code",
   "execution_count": 10,
   "metadata": {},
   "outputs": [],
   "source": [
    "with open('./train.txt', 'r') as f:\n",
    "    train_data_words = f.read()\n",
    "\n",
    "with open('./test.txt', 'r') as f:\n",
    "    test_data_words = f.read()"
   ]
  },
  {
   "cell_type": "code",
   "execution_count": 11,
   "metadata": {},
   "outputs": [],
   "source": [
    "tokenizer = tiktoken.get_encoding(\"cl100k_base\")\n",
    "# assert enc.decode(enc.encode(\"hello world\")) == \"hello world\""
   ]
  },
  {
   "cell_type": "code",
   "execution_count": 5,
   "metadata": {},
   "outputs": [],
   "source": [
    "train_tokens = tokenizer.encode(train_data_words)\n",
    "test_tokens = tokenizer.encode(test_data_words)\n",
    "# tokenizer.decode(training_tokens[:10])"
   ]
  },
  {
   "cell_type": "code",
   "execution_count": 6,
   "metadata": {},
   "outputs": [],
   "source": [
    "train_tensor = torch.tensor(train_tokens, dtype=torch.long)\n",
    "test_tensor = torch.tensor(test_tokens, dtype=torch.long)"
   ]
  },
  {
   "cell_type": "code",
   "execution_count": 7,
   "metadata": {},
   "outputs": [],
   "source": [
    "from torch.utils.data import Dataset\n",
    "import torch\n",
    "\n",
    "class WikiData(Dataset):\n",
    "    def __init__(self, dataset: Dataset, block_size: int=256, batch_size: int=1):\n",
    "        self.block_size = block_size\n",
    "        self.batch_size = batch_size\n",
    "        self.dataset = dataset\n",
    "        \n",
    "\n",
    "    def __len__(self) -> int:\n",
    "        return self.block_size\n",
    "\n",
    "    def __getitem__(self, idx: int) -> tuple[torch.tensor, torch.tensor]:\n",
    "        x = torch.zeros((self.batch_size,self.block_size + 1), dtype=torch.long)\n",
    "        y = torch.zeros((self.batch_size,self.block_size + 1), dtype=torch.long)\n",
    "        # print(idx)\n",
    "        x = self.dataset[idx:idx+self.block_size]\n",
    "        y = self.dataset[idx+1:idx+self.block_size+1]\n",
    "        return x.to(device), y.to(device)\n",
    "            "
   ]
  },
  {
   "cell_type": "code",
   "execution_count": 8,
   "metadata": {},
   "outputs": [],
   "source": [
    "## Get batches from training and test data\n",
    "train_data_obj = WikiData(train_tensor, block_size=block_size)\n",
    "test_data_obj = WikiData(train_tensor, block_size=block_size)"
   ]
  },
  {
   "cell_type": "code",
   "execution_count": 9,
   "metadata": {},
   "outputs": [
    {
     "data": {
      "text/plain": [
       "100277"
      ]
     },
     "execution_count": 9,
     "metadata": {},
     "output_type": "execute_result"
    }
   ],
   "source": [
    "tokenizer.n_vocab"
   ]
  },
  {
   "cell_type": "code",
   "execution_count": 3,
   "metadata": {},
   "outputs": [],
   "source": [
    "import torch.nn as nn\n",
    "import torch.nn.functional as F\n",
    "\n",
    "class Feedforward(nn.Module):\n",
    "    def __init__(self,emb_dim,dropout) -> None:\n",
    "        super().__init__()\n",
    "        self.ff = nn.Sequential(\n",
    "            nn.Linear(emb_dim, linear_scaleup * emb_dim),\n",
    "            nn.ReLU(),\n",
    "            nn.Linear(linear_scaleup * emb_dim, emb_dim),\n",
    "            nn.Dropout(dropout)\n",
    "        )\n",
    "\n",
    "    def forward(self,x):\n",
    "        return self.ff(x)\n",
    "\n",
    "class Block(nn.Module):\n",
    "    def __init__(self, emb_dim, num_heads, dropout) -> None:\n",
    "        super().__init__()\n",
    "        self.head_size = emb_dim // num_heads\n",
    "        self.sa_head = nn.MultiheadAttention(emb_dim, num_heads, dropout)\n",
    "        self.ff = Feedforward(emb_dim, dropout)\n",
    "        self.ln1 = nn.LayerNorm(emb_dim)\n",
    "        self.ln2 = nn.LayerNorm(emb_dim)\n",
    "\n",
    "    def forward(self, x, targets=None):\n",
    "        x = self.ln1(x)\n",
    "        sa_out, _ = self.sa_head(x,x,x)\n",
    "        x = x + sa_out\n",
    "        x = x + self.ff(self.ln2(x))\n",
    "        return x\n",
    "\n",
    "\n",
    "class Xformer(nn.Module):\n",
    "    def __init__(self, emb_dim, num_heads, dropout): #num_layers = 3 --> needs to be properl parametrized\n",
    "        super().__init__()\n",
    "        self.tok_emb = nn.Embedding(tokenizer.n_vocab, emb_dim)\n",
    "        self.pos_emb = nn.Embedding(tokenizer.n_vocab, emb_dim)\n",
    "        self.blocks = nn.Sequential(\n",
    "            Block(emb_dim, num_heads, dropout), \n",
    "            Block(emb_dim, num_heads, dropout),\n",
    "            Block(emb_dim, num_heads, dropout),\n",
    "            Block(emb_dim, num_heads, dropout), \n",
    "            Block(emb_dim, num_heads, dropout),\n",
    "            Block(emb_dim, num_heads, dropout),\n",
    "            nn.LayerNorm(emb_dim)\n",
    "        ) \n",
    "        self.lm_head = nn.Linear(emb_dim, tokenizer.n_vocab)\n",
    "\n",
    "    def forward(self, x, targets=None):\n",
    "        x = self.tok_emb(x) + self.pos_emb(x)\n",
    "        x = self.blocks(x)\n",
    "        logits = self.lm_head(x)\n",
    "\n",
    "        loss = None\n",
    "        if targets is not None:\n",
    "            # print(logits.view(-1, logits.size(-1)).shape, targets.view(-1).shape)\n",
    "            loss = F.cross_entropy(logits.view(-1, logits.size(-1)), targets.view(-1), ignore_index=-1)\n",
    "\n",
    "        return(logits,loss)"
   ]
  },
  {
   "cell_type": "code",
   "execution_count": 11,
   "metadata": {},
   "outputs": [],
   "source": [
    "from torch.utils.data import DataLoader\n",
    "train_dataloader = DataLoader(train_data_obj, batch_size=1)\n",
    "test_dataloader = DataLoader(test_data_obj, batch_size=1)"
   ]
  },
  {
   "cell_type": "code",
   "execution_count": 12,
   "metadata": {},
   "outputs": [
    {
     "name": "stdout",
     "output_type": "stream",
     "text": [
      "tensor(11.6163, device='mps:0', grad_fn=<NllLossBackward0>)\n"
     ]
    }
   ],
   "source": [
    "# Single test run\n",
    "from torch.optim import Adam\n",
    "xb, yb = next(iter(train_dataloader))\n",
    "model = Xformer(emb_dim, num_heads, dropout).to(device)\n",
    "optimizer = Adam(model.parameters(), lr=0.001)\n",
    "logits, loss = model(xb,yb)\n",
    "print(loss)\n"
   ]
  },
  {
   "cell_type": "code",
   "execution_count": 13,
   "metadata": {},
   "outputs": [
    {
     "data": {
      "text/plain": [
       "126266933"
      ]
     },
     "execution_count": 13,
     "metadata": {},
     "output_type": "execute_result"
    }
   ],
   "source": [
    "from utils import get_model_size\n",
    "get_model_size(model)"
   ]
  },
  {
   "cell_type": "code",
   "execution_count": 14,
   "metadata": {},
   "outputs": [],
   "source": [
    "# # ## Optimal lr sweep\n",
    "# from utils import get_lr_loss\n",
    "# import matplotlib.pyplot as plt\n",
    "# num_epochs = 100\n",
    "# lri, lossi =  get_lr_loss(model, optimizer, train_dataloader, num_epochs, device, -2, -1)\n",
    "# plt.plot(lri, lossi)\n",
    "# # Add labels to the x-axis and y-axis\n",
    "# plt.xlabel('LR (Learning Rate)')\n",
    "# plt.ylabel('Loss')"
   ]
  },
  {
   "cell_type": "code",
   "execution_count": 15,
   "metadata": {},
   "outputs": [],
   "source": [
    "train_dataloader = DataLoader(train_data_obj, batch_size=batch_size)\n",
    "test_dataloader = DataLoader(test_data_obj, batch_size=batch_size)\n",
    "tr_loss = []\n",
    "te_loss = []"
   ]
  },
  {
   "cell_type": "code",
   "execution_count": 30,
   "metadata": {},
   "outputs": [
    {
     "name": "stdout",
     "output_type": "stream",
     "text": [
      "ltr:  4.26521635055542 lte:  4.26521635055542 single shot loss: 4.266134262084961\n",
      "ltr:  4.2611613273620605 lte:  4.2611613273620605 single shot loss: 4.26219367980957\n",
      "ltr:  4.260254383087158 lte:  4.260254383087158 single shot loss: 4.260554790496826\n",
      "ltr:  4.260027885437012 lte:  4.260027885437012 single shot loss: 4.26073694229126\n",
      "ltr:  4.259910583496094 lte:  4.259910583496094 single shot loss: 4.259404182434082\n",
      "ltr:  4.259902477264404 lte:  4.259902477264404 single shot loss: 4.260210037231445\n",
      "ltr:  4.2598185539245605 lte:  4.2598185539245605 single shot loss: 4.261122226715088\n",
      "ltr:  4.259795665740967 lte:  4.259795665740967 single shot loss: 4.260348320007324\n",
      "ltr:  4.259788990020752 lte:  4.259788990020752 single shot loss: 4.260289192199707\n",
      "ltr:  4.2597880363464355 lte:  4.2597880363464355 single shot loss: 4.260014533996582\n"
     ]
    }
   ],
   "source": [
    "from utils import evaluate_loss\n",
    "lr = 0.001\n",
    "optimizer = Adam(model.parameters(), lr=lr)\n",
    "n_epochs = max_iters\n",
    "for steps in range(n_epochs):\n",
    "    xb, yb = next(iter(train_dataloader))\n",
    "    xb = xb.to(device)\n",
    "    yb = yb.to(device)\n",
    "    logits, loss = model(xb,yb)\n",
    "    optimizer.zero_grad(set_to_none=True)\n",
    "    loss.backward()\n",
    "    optimizer.step()\n",
    "    tr_lossi, te_lossi = evaluate_loss(model, train_dataloader, test_dataloader, device, num_batches=10)\n",
    "    tr_loss.append(tr_lossi)\n",
    "    te_loss.append(te_lossi)\n",
    "    # print(loss.item())\n",
    "\n",
    "    if steps % eval_interval-1 == 0:\n",
    "        print('ltr: ', tr_lossi, 'lte: ', te_lossi, 'single shot loss:', loss.item())"
   ]
  },
  {
   "cell_type": "code",
   "execution_count": 35,
   "metadata": {},
   "outputs": [
    {
     "data": {
      "image/png": "[encoded data removed]",
      "text/plain": [
       "<Figure size 640x480 with 1 Axes>"
      ]
     },
     "metadata": {},
     "output_type": "display_data"
    },
    {
     "name": "stdout",
     "output_type": "stream",
     "text": [
      "training loss:  4.2598\n",
      "validation loss:  4.2598\n"
     ]
    }
   ],
   "source": [
    "## Plot loss \n",
    "import matplotlib.pyplot as plt\n",
    "\n",
    "plt.plot(tr_loss[-50:], label='Training Loss')\n",
    "plt.plot(te_loss[-50:], label='Testing Loss')\n",
    "plt.legend()\n",
    "plt.show()\n",
    "print('training loss: ', round(torch.mean(torch.tensor(tr_loss[-10:])).item(),4)), \n",
    "print('validation loss: ', round((torch.mean(torch.tensor(te_loss[-10:]))).item(),4))"
   ]
  },
  {
   "cell_type": "code",
   "execution_count": 14,
   "metadata": {},
   "outputs": [],
   "source": [
    "@torch.no_grad()\n",
    "def generate(model, max_new_tokens=block_size, batch_size=batch_size, temperature=temperature):\n",
    "    idx = torch.zeros((batch_size, 1), dtype=torch.long).to(device)\n",
    "    for _ in range(max_new_tokens):\n",
    "        # print('idx shape:',idx.shape)\n",
    "        idx_cond = idx if idx.size(1) <= block_size else idx[:, -block_size:]\n",
    "        idx_cond = idx_cond.to(device)\n",
    "        logits, _ = model(idx_cond)\n",
    "        # Pick only the logits from most recent time step. Karpathy also does a divide by temp?\n",
    "        # This is just Platt scaling which makes the various Softmax curves closes adding more randomness\n",
    "        # see scratch.ipynb. https://en.wikipedia.org/wiki/Platt_scaling\n",
    "        logits = logits[:,-1,:]/temperature\n",
    "        probs = F.softmax(logits, dim=-1)\n",
    "        # print('prob dist:',probs)\n",
    "        idx_next = torch.multinomial(probs, num_samples=1)\n",
    "        # print('idx_next shape:',idx_next.shape)\n",
    "        idx = torch.cat((idx, idx_next), dim=1)\n",
    "    return idx\n",
    "\n",
    "    "
   ]
  },
  {
   "cell_type": "code",
   "execution_count": 37,
   "metadata": {},
   "outputs": [],
   "source": [
    "X_samp = generate(model, block_size, 1, temperature).tolist()"
   ]
  },
  {
   "cell_type": "code",
   "execution_count": 38,
   "metadata": {},
   "outputs": [
    {
     "name": "stdout",
     "output_type": "stream",
     "text": [
      "! , before finish . in season full – was ran difference .201 goal finish League in the14 Football season eight seasonation North York , . ination the  in place  played of – season4 in second football June it his4thing competitive only club only3 York-4 season in – the York only –th77 manager club seasonth second the football ,th in  only year , eight = made Yorkshire  201 place City of summer@ starting signings in \n",
      " in14 The – and  the  season made second17 above30 Leagueton signings turn summer  . ,4303  = . signings201 Nigel based Wor\n"
     ]
    }
   ],
   "source": [
    "for row in X_samp:\n",
    "    print(tokenizer.decode(row))"
   ]
  },
  {
   "cell_type": "code",
   "execution_count": 39,
   "metadata": {},
   "outputs": [],
   "source": [
    "# Specify the file path where you want to save the model weights\n",
    "file_path = 'model_weights.pth'\n",
    "\n",
    "# Save the model weights\n",
    "torch.save(model.state_dict(), file_path)"
   ]
  },
  {
   "cell_type": "code",
   "execution_count": 15,
   "metadata": {},
   "outputs": [
    {
     "name": "stdout",
     "output_type": "stream",
     "text": [
      "!  – finish competitive York full place201  Yorkshire club F1thing- the season season match their @ were Club football Their Two  By England season place2011 in4  season13 by turn football ,   Two second Nigel finish England turn @ made The zone as England ,  permanent football full @ and was the zone in association in season releg his2ton association.C The F starting North- and made77 by @ football   summer competitive  ran in314 in201 a season finish Yorkthing201 ran . second  eight@ in his consecutive eight League football competitive The as Football second the  2th . season\n"
     ]
    }
   ],
   "source": [
    "import torch\n",
    "model = Xformer(emb_dim, num_heads, dropout).to(device)\n",
    "# Load the saved model weights\n",
    "file_path = 'model_weights.pth'\n",
    "model.load_state_dict(torch.load(file_path))\n",
    "X_samp = generate(model, block_size, 1, temperature).tolist()\n",
    "for row in X_samp:\n",
    "    print(tokenizer.decode(row))"
   ]
  },
  {
   "cell_type": "code",
   "execution_count": null,
   "metadata": {},
   "outputs": [],
   "source": []
  }
 ],
 "metadata": {
  "kernelspec": {
   "display_name": "Python 3",
   "language": "python",
   "name": "python3"
  },
  "language_info": {
   "codemirror_mode": {
    "name": "ipython",
    "version": 3
   },
   "file_extension": ".py",
   "mimetype": "text/x-python",
   "name": "python",
   "nbconvert_exporter": "python",
   "pygments_lexer": "ipython3",
   "version": "3.10.13"
  }
 },
 "nbformat": 4,
 "nbformat_minor": 2
}
