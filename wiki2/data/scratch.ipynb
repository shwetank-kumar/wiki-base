{
 "cells": [
  {
   "cell_type": "code",
   "execution_count": null,
   "metadata": {},
   "outputs": [],
   "source": [
    "import os\n",
    "from datasets import load_dataset\n",
    "from transformers import AutoTokenizer\n",
    "from itertools import chain\n",
    "\n",
    "## Tokenizer path\n",
    "tokenizer_path = \"./wiki2tokenizer\"\n",
    "\n",
    "## Get data\n",
    "dataset = load_dataset(\"wikitext\", name=\"wikitext-2-raw-v1\")\n",
    "splits = dataset.keys()\n",
    "\n",
    "\n",
    "## Function to finetune a tokenizer from based on the dataset \n",
    "## Train a new tokenizer using Wiki dataset from GPT2 tokenizer\n",
    "batch_size = 1000\n",
    "vocab_size = 25000\n",
    "num_proc = 6 ## num cpu cores // 2\n",
    "\n",
    "def batch_iterator(splits):\n",
    "    for split in splits:\n",
    "        for i in range(0, len(dataset[split]), batch_size):\n",
    "            yield dataset[split][i : i + batch_size][\"text\"]\n",
    "\n",
    "def tune_tokenizer():\n",
    "    gpt2_tokenizer = AutoTokenizer.from_pretrained(\"gpt2\")\n",
    "    print(gpt2_tokenizer.is_fast)\n",
    "    tokenizer = gpt2_tokenizer.train_new_from_iterator(batch_iterator(splits), vocab_size=25000)\n",
    "    return tokenizer\n",
    "\n",
    "\n",
    "def tokenize(example):\n",
    "    tokens = {}\n",
    "    tokenized_dataset = tokenizer(example)\n",
    "    # tokens['train'] = tokenized_dataset['train']['input_ids']\n",
    "    # tokens['validation'] = tokenized_dataset['validation']['input_ids']\n",
    "    # tokens['test'] = tokenized_dataset['test']['input_ids']\n",
    "    return  tokenized_dataset\n"
   ]
  },
  {
   "cell_type": "code",
   "execution_count": null,
   "metadata": {},
   "outputs": [],
   "source": [
    "tokenizer = AutoTokenizer.from_pretrained(tokenizer_path)\n",
    "# dataset = dataset.map(lambda examples: tokenizer(examples[\"text\"]), \n",
    "#                       batched=True,\n",
    "#                       desc=\"Tokenizing the splits\",\n",
    "#                       num_proc=num_proc,)\n",
    "tokenized_dataset = dataset.map(lambda example: tokenize(example['text']), \n",
    "                        batched=True,\n",
    "                        remove_columns=['text'],\n",
    "                        desc=\"Tokenizing the splits\",\n",
    "                        num_proc=num_proc,)\n",
    "\n",
    "for split, dset in  tokenized_dataset.items():\n",
    "    print(split)\n",
    "    print(dset)\n",
    "# tokens = {}\n",
    "# for s in tokenized_dataset:\n",
    "#     tokens[s] = list(chain.from_iterable(tokenized_dataset[s]['input_ids']))\n",
    "\n",
    "# print(tokens)"
   ]
  },
  {
   "cell_type": "code",
   "execution_count": null,
   "metadata": {},
   "outputs": [],
   "source": [
    "print(len(tokens['train']), len(tokens['validation']), len(tokens['test']))"
   ]
  },
  {
   "cell_type": "code",
   "execution_count": null,
   "metadata": {},
   "outputs": [],
   "source": [
    "tokenized_dataset['train']['input_ids']"
   ]
  },
  {
   "cell_type": "code",
   "execution_count": 1,
   "metadata": {},
   "outputs": [
    {
     "data": {
      "text/plain": [
       "{'test': tensor([  301,  2480, 16377,  ...,  6961,   272,   315]),\n",
       " 'train': tensor([  301,  9823, 10724,  ..., 11340,   272,   315]),\n",
       " 'validation': tensor([  301, 14261, 13975,  ...,   301,   301,   315])}"
      ]
     },
     "execution_count": 1,
     "metadata": {},
     "output_type": "execute_result"
    }
   ],
   "source": [
    "import pickle\n",
    "## Load tokenized datasets\n",
    "dataset_path = \"./wiki2tokens.bin\"\n",
    "with open(dataset_path, \"rb\") as f:\n",
    "    loaded_objects = pickle.load(f)\n",
    "\n",
    "# Unpack the tuple of objects\n",
    "vocab_size, tokenized_text, tokens_dataset = loaded_objects\n",
    "tokenized_text"
   ]
  },
  {
   "cell_type": "code",
   "execution_count": 1,
   "metadata": {},
   "outputs": [
    {
     "name": "stdout",
     "output_type": "stream",
     "text": [
      "Number of GPUs available: 0\n"
     ]
    }
   ],
   "source": [
    "import torch\n",
    "\n",
    "num_gpus = torch.cuda.device_count()\n",
    "print(\"Number of GPUs available:\", num_gpus)"
   ]
  },
  {
   "cell_type": "code",
   "execution_count": null,
   "metadata": {},
   "outputs": [],
   "source": []
  }
 ],
 "metadata": {
  "kernelspec": {
   "display_name": "Python 3",
   "language": "python",
   "name": "python3"
  },
  "language_info": {
   "codemirror_mode": {
    "name": "ipython",
    "version": 3
   },
   "file_extension": ".py",
   "mimetype": "text/x-python",
   "name": "python",
   "nbconvert_exporter": "python",
   "pygments_lexer": "ipython3",
   "version": "3.11.8"
  }
 },
 "nbformat": 4,
 "nbformat_minor": 2
}
