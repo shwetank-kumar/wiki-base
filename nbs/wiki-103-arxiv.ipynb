{
 "cells": [
  {
   "cell_type": "code",
   "execution_count": null,
   "metadata": {},
   "outputs": [],
   "source": [
    "from datasets import load_dataset\n",
    "import torch\n",
    "import tiktoken\n",
    "\n",
    "# Setup device\n",
    "device = torch.device(\"cuda\")"
   ]
  },
  {
   "cell_type": "code",
   "execution_count": null,
   "metadata": {},
   "outputs": [],
   "source": [
    "device"
   ]
  },
  {
   "cell_type": "code",
   "execution_count": null,
   "metadata": {},
   "outputs": [],
   "source": [
    "# Hyperparams\n",
    "batch_size = 32\n",
    "block_size = 128\n",
    "emb_dim = 768\n",
    "num_heads = 12\n",
    "num_layers = 12\n",
    "dropout = 0.3\n",
    "linear_scaleup = 4\n",
    "temperature = 2\n",
    "weights_decay = 0.01\n",
    "\n",
    "# Optimization loop parameters\n",
    "n_epochs = 100\n",
    "eval_interval =10"
   ]
  },
  {
   "cell_type": "code",
   "execution_count": null,
   "metadata": {},
   "outputs": [],
   "source": [
    "# Load WikiText-103 dataset\n",
    "dataset = load_dataset(\"wikitext\", \"wikitext-103-raw-v1\")\n",
    "tokenizer = tiktoken.get_encoding(\"cl100k_base\")"
   ]
  },
  {
   "cell_type": "code",
   "execution_count": null,
   "metadata": {},
   "outputs": [],
   "source": [
    "def preprocess_dataset(dataset, tokenizer, block_length=128):\n",
    "    dataset_string = ' '.join(dataset['text'])\n",
    "    tokenized_dataset = tokenizer.encode(dataset_string)\n",
    "    return tokenized_dataset"
   ]
  },
  {
   "cell_type": "code",
   "execution_count": null,
   "metadata": {},
   "outputs": [],
   "source": [
    "# train_dataset = preprocess_dataset(dataset['train'],tokenizer)\n",
    "# val_dataset = preprocess_dataset(dataset['validation'],tokenizer)\n",
    "# test_dataset = preprocess_dataset(dataset['test'],tokenizer)\n",
    "# print(len(train_dataset), len(val_dataset), len(test_dataset))"
   ]
  },
  {
   "cell_type": "code",
   "execution_count": null,
   "metadata": {},
   "outputs": [],
   "source": [
    "# Load WikiText-103 dataset\n",
    "dataset = load_dataset(\"wikitext\", \"wikitext-103-raw-v1\")\n",
    "tokenized_dataset = {}\n",
    "\n",
    "# Create tokenized text blobs\n",
    "train_tokens = preprocess_dataset(dataset['train'],tokenizer)\n",
    "val_tokens = preprocess_dataset(dataset['validation'],tokenizer)\n",
    "test_tokens = preprocess_dataset(dataset['test'],tokenizer)\n",
    "print(len(train_tokens), len(val_tokens), len(test_tokens))\n",
    "\n",
    "# Convert to tokenized text tensors\n",
    "train_tensor = torch.squeeze(torch.tensor(train_tokens, dtype=torch.long))\n",
    "val_tensor = torch.tensor(val_tokens, dtype=torch.long)\n",
    "test_tensor = torch.tensor(test_tokens, dtype=torch.long)\n",
    "print(f\"Number of training tokens: {train_tensor.shape}, validation tokens: {val_tensor.shape}, test tokens: {test_tensor.shape}\")"
   ]
  },
  {
   "cell_type": "code",
   "execution_count": null,
   "metadata": {},
   "outputs": [],
   "source": [
    "from torch.utils.data import Dataset\n",
    "import torch\n",
    "\n",
    "class WikiData(Dataset):\n",
    "    def __init__(self, dataset: Dataset, block_size: int=128, batch_size: int=64):\n",
    "        self.block_size = block_size\n",
    "        self.batch_size = batch_size\n",
    "        self.dataset = dataset\n",
    "        \n",
    "\n",
    "    def __len__(self) -> int:\n",
    "        return self.block_size\n",
    "\n",
    "    def __getitem__(self, idx: int) -> tuple[torch.tensor, torch.tensor]:\n",
    "        x = torch.zeros((self.batch_size,self.block_size + 1), dtype=torch.long)\n",
    "        y = torch.zeros((self.batch_size,self.block_size + 1), dtype=torch.long)\n",
    "        # print(idx)\n",
    "        x = self.dataset[idx:idx+self.block_size]\n",
    "        y = self.dataset[idx+1:idx+self.block_size+1]\n",
    "        return x.to(device), y.to(device)"
   ]
  },
  {
   "cell_type": "code",
   "execution_count": null,
   "metadata": {},
   "outputs": [],
   "source": [
    "import torch.nn as nn\n",
    "import torch.nn.functional as F\n",
    "\n",
    "class Feedforward(nn.Module):\n",
    "    def __init__(self,emb_dim,dropout) -> None:\n",
    "        super().__init__()\n",
    "        self.ff = nn.Sequential(\n",
    "            nn.Linear(emb_dim, linear_scaleup * emb_dim),\n",
    "            nn.GELU(),\n",
    "            nn.Linear(linear_scaleup * emb_dim, emb_dim),\n",
    "            nn.Dropout(dropout)\n",
    "        )\n",
    "\n",
    "    def forward(self,x):\n",
    "        return self.ff(x)\n",
    "\n",
    "class Block(nn.Module):\n",
    "    def __init__(self, emb_dim, num_heads, dropout) -> None:\n",
    "        super().__init__()\n",
    "        self.head_size = emb_dim // num_heads\n",
    "        self.sa_head = nn.MultiheadAttention(emb_dim, num_heads, dropout)\n",
    "        self.ff = Feedforward(emb_dim, dropout)\n",
    "        self.ln1 = nn.LayerNorm(emb_dim)\n",
    "        self.ln2 = nn.LayerNorm(emb_dim)\n",
    "\n",
    "    def forward(self, x, targets=None):\n",
    "        x = self.ln1(x)\n",
    "        sa_out, _ = self.sa_head(x,x,x)\n",
    "        x = x + sa_out\n",
    "        x = x + self.ff(self.ln2(x))\n",
    "        return x\n",
    "\n",
    "\n",
    "class Xformer(nn.Module):\n",
    "    def __init__(self, emb_dim, num_heads, num_layers, dropout): \n",
    "        super().__init__()\n",
    "        self.tok_emb = nn.Embedding(tokenizer.n_vocab, emb_dim)\n",
    "        self.pos_emb = nn.Embedding(tokenizer.n_vocab, emb_dim)\n",
    "        blocks = []\n",
    "        for _ in range(num_layers):\n",
    "            blocks.append(Block(emb_dim, num_heads, dropout))\n",
    "        \n",
    "        self.blocks = nn.Sequential(*blocks, nn.LayerNorm(emb_dim))\n",
    "        self.lm_head = nn.Linear(emb_dim, tokenizer.n_vocab)\n",
    "\n",
    "    def forward(self, x, targets=None):\n",
    "        x = self.tok_emb(x) + self.pos_emb(x)\n",
    "        x = self.blocks(x)\n",
    "        logits = self.lm_head(x)\n",
    "\n",
    "        loss = None\n",
    "        if targets is not None:\n",
    "            # print(logits.view(-1, logits.size(-1)).shape, targets.view(-1).shape)\n",
    "            loss = F.cross_entropy(logits.view(-1, logits.size(-1)), targets.view(-1), ignore_index=-1)\n",
    "\n",
    "        return(logits,loss)"
   ]
  },
  {
   "cell_type": "code",
   "execution_count": null,
   "metadata": {},
   "outputs": [],
   "source": [
    "## Get dataloader for train and  val datasets from training and test data\n",
    "from torch.utils.data import DataLoader\n",
    "train_data_obj = WikiData(train_tensor, block_size=block_size)\n",
    "val_data_obj = WikiData(val_tensor, block_size=block_size)\n",
    "train_dataloader = DataLoader(train_data_obj, batch_size=1)\n",
    "val_dataloader = DataLoader(val_data_obj, batch_size=1)"
   ]
  },
  {
   "cell_type": "code",
   "execution_count": null,
   "metadata": {},
   "outputs": [],
   "source": [
    "# Single test run\n",
    "from torch.optim import Adam, AdamW\n",
    "xb, yb = next(iter(train_dataloader))\n",
    "print(xb.shape, yb.shape)\n",
    "model = Xformer(emb_dim, num_heads, num_layers, dropout).to(device)\n",
    "optimizer = Adam(model.parameters(), lr=0.001)\n",
    "logits, loss = model(xb,yb)\n",
    "print(loss)"
   ]
  },
  {
   "cell_type": "code",
   "execution_count": null,
   "metadata": {},
   "outputs": [],
   "source": [
    "from utils import get_model_size\n",
    "get_model_size(model)/1e6"
   ]
  },
  {
   "cell_type": "code",
   "execution_count": null,
   "metadata": {},
   "outputs": [],
   "source": [
    "# # ## Optimal lr sweep\n",
    "# from utils import get_lr_loss\n",
    "# import matplotlib.pyplot as plt\n",
    "# num_epochs = 100\n",
    "# lri, lossi =  get_lr_loss(model, optimizer, train_dataloader, num_epochs, device, -5, -3)\n",
    "# plt.plot(lri, lossi)\n",
    "# # Add labels to the x-axis and y-axis\n",
    "# plt.xlabel('LR (Learning Rate)')\n",
    "# plt.ylabel('Loss')"
   ]
  },
  {
   "cell_type": "code",
   "execution_count": null,
   "metadata": {},
   "outputs": [],
   "source": [
    "train_dataloader = DataLoader(train_data_obj, batch_size=batch_size)\n",
    "val_dataloader = DataLoader(val_data_obj, batch_size=batch_size)\n",
    "tr_loss = []\n",
    "vl_loss = []"
   ]
  },
  {
   "cell_type": "code",
   "execution_count": null,
   "metadata": {},
   "outputs": [],
   "source": [
    "from utils import evaluate_loss\n",
    "lr = 1e-5\n",
    "optimizer = Adam(model.parameters(), lr=lr, weight_decay=weights_decay)\n",
    "for steps in range(30):\n",
    "    xb, yb = next(iter(train_dataloader))\n",
    "    xb = xb.to(device)\n",
    "    yb = yb.to(device)\n",
    "    logits, loss = model(xb,yb)\n",
    "    optimizer.zero_grad(set_to_none=True)\n",
    "    loss.backward()\n",
    "    optimizer.step()\n",
    "    tr_lossi, vl_lossi = evaluate_loss(model, train_dataloader, val_dataloader, device, num_batches=10)\n",
    "    tr_loss.append(tr_lossi)\n",
    "    vl_loss.append(vl_lossi)\n",
    "    print('tr_loss: ', tr_lossi, 'val_loss: ', vl_lossi, 'single shot loss:', loss.item())\n",
    "\n",
    "    # if steps % eval_interval-1 == 0:\n",
    "    #     print('tr_loss: ', tr_lossi, 'val_loss: ', vl_lossi, 'single shot loss:', loss.item())"
   ]
  },
  {
   "cell_type": "code",
   "execution_count": null,
   "metadata": {},
   "outputs": [],
   "source": [
    "## Plot loss \n",
    "import matplotlib.pyplot as plt\n",
    "\n",
    "plt.plot(tr_loss[-50:], label='Training Loss')\n",
    "plt.plot(vl_loss[-50:], label='Validation Loss')\n",
    "plt.legend()\n",
    "plt.show()\n",
    "print('training loss: ', round(torch.mean(torch.tensor(tr_loss[-10:])).item(),4)), \n",
    "print('validation loss: ', round((torch.mean(torch.tensor(vl_loss[-10:]))).item(),4))"
   ]
  },
  {
   "cell_type": "code",
   "execution_count": null,
   "metadata": {},
   "outputs": [],
   "source": [
    "@torch.no_grad()\n",
    "def generate(model, max_new_tokens=block_size, stub='', batch_size=1,temperature=temperature):\n",
    "    stub_token = tokenizer.encode(stub)\n",
    "    stub_token_tensor = torch.tensor(stub_token, dtype=torch.long).to(device)\n",
    "    idx = torch.unsqueeze(stub_token_tensor, dim=0)\n",
    "    for _ in range(max_new_tokens):\n",
    "        # print('idx shape:',idx.shape)\n",
    "        idx_cond = idx if idx.size(1) <= block_size else idx[:, -block_size:]\n",
    "        idx_cond = idx_cond.to(device)\n",
    "        logits, _ = model(idx_cond)\n",
    "        # Pick only the logits from most recent time step. Karpathy also does a divide by temp?\n",
    "        # This is just Platt scaling which makes the various Softmax curves closes adding more randomness\n",
    "        # see scratch.ipynb. https://en.wikipedia.org/wiki/Platt_scaling\n",
    "        logits = logits[:,-1,:]/temperature\n",
    "        probs = F.softmax(logits, dim=-1)\n",
    "        # print('prob dist:',probs)\n",
    "        idx_next = torch.multinomial(probs, num_samples=1)\n",
    "        # print('idx_next shape:',idx_next.shape)\n",
    "        idx = torch.cat((idx, idx_next), dim=1)\n",
    "\n",
    "    sample = tokenizer.decode(idx[0].tolist())\n",
    "\n",
    "    return sample\n",
    "\n"
   ]
  },
  {
   "cell_type": "code",
   "execution_count": null,
   "metadata": {},
   "outputs": [],
   "source": [
    "stub = \"And so we begin, where we started \"\n",
    "samples = generate(model, block_size, stub, temperature)\n",
    "print(samples)"
   ]
  },
  {
   "cell_type": "code",
   "execution_count": null,
   "metadata": {},
   "outputs": [],
   "source": [
    "# Specify the file path where you want to save the model weights\n",
    "file_path = 'model_weights.pth'\n",
    "\n",
    "# Save the model weights\n",
    "torch.save(model.state_dict(), file_path)"
   ]
  },
  {
   "cell_type": "code",
   "execution_count": null,
   "metadata": {},
   "outputs": [],
   "source": []
  }
 ],
 "metadata": {
  "kernelspec": {
   "display_name": "Python 3",
   "language": "python",
   "name": "python3"
  },
  "language_info": {
   "codemirror_mode": {
    "name": "ipython",
    "version": 3
   },
   "file_extension": ".py",
   "mimetype": "text/x-python",
   "name": "python",
   "nbconvert_exporter": "python",
   "pygments_lexer": "ipython3",
   "version": "3.10.13"
  }
 },
 "nbformat": 4,
 "nbformat_minor": 2
}
