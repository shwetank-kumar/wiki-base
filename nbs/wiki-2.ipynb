{
 "cells": [
  {
   "cell_type": "code",
   "execution_count": null,
   "metadata": {},
   "outputs": [],
   "source": [
    "%load_ext autoreload\n",
    "%autoreload 2\n",
    "import torch\n",
    "# from datasets import load_dataset\n",
    "from transformers import AutoTokenizer\n",
    "import pickle\n",
    "import sys\n",
    "sys.path.append('/Users/shwetank/code/wiki-base')\n",
    "\n",
    "# Setup device\n",
    "# Check if CUDA is available\n",
    "if torch.cuda.is_available():\n",
    "    device = torch.device(\"cuda\")\n",
    "else:\n",
    "    # Check if MPS is available\n",
    "    if torch.backends.mps.is_available():\n",
    "        device = torch.device(\"mps\")\n",
    "    else:\n",
    "        # Fall back to CPU\n",
    "        device = torch.device(\"cpu\")\n",
    "\n",
    "print(\"Device selected:\", device)"
   ]
  },
  {
   "cell_type": "code",
   "execution_count": null,
   "metadata": {},
   "outputs": [],
   "source": [
    "## File paths\n",
    "dataset_path = \"../data/wiki2/wiki2tokens.bin\"\n",
    "tokenizer_path = \"../data/wiki2/wiki2tokenizer\""
   ]
  },
  {
   "cell_type": "code",
   "execution_count": null,
   "metadata": {},
   "outputs": [],
   "source": [
    "## Load tokenized datasets\n",
    "with open(dataset_path, \"rb\") as f:\n",
    "    loaded_objects = pickle.load(f)\n",
    "\n",
    "# Unpack the tuple of objects\n",
    "vocab_size, tokenized_text, tokens_dataset = loaded_objects\n",
    "tokenized_text.keys()"
   ]
  },
  {
   "cell_type": "code",
   "execution_count": null,
   "metadata": {},
   "outputs": [],
   "source": [
    "## Load tokenizer object \n",
    "tokenizer = AutoTokenizer.from_pretrained(tokenizer_path)"
   ]
  },
  {
   "cell_type": "code",
   "execution_count": null,
   "metadata": {},
   "outputs": [],
   "source": [
    "tokenized_tensors = {}\n",
    "for s in ['train', 'validation', 'test']:\n",
    "    tokenized_tensors[s] = torch.tensor(tokenized_text[s], dtype=torch.long)"
   ]
  },
  {
   "cell_type": "code",
   "execution_count": null,
   "metadata": {},
   "outputs": [],
   "source": [
    "## Print tokens and text\n",
    "from utils import get_batch\n",
    "## Hyperparameters\n",
    "block_size = 128\n",
    "batch_size = 32\n",
    "emb_dim = 64\n",
    "num_layers = 4\n",
    "num_heads = 16\n",
    "dropout = 0.2\n",
    "# x_toks, y_toks = get_batch(encoded_dataset['train'], device, block_size, batch_size)\n",
    "# print(x_toks)\n",
    "# print(y_toks)\n",
    "# txt = [''.join(tokenizer.decode(t)) for t in x_toks.tolist()]\n",
    "# for row in txt:\n",
    "#     print(row)\n",
    "#     print('================')"
   ]
  },
  {
   "cell_type": "code",
   "execution_count": null,
   "metadata": {},
   "outputs": [],
   "source": [
    "# Single test run\n",
    "from models import Xformer_Scratch as Xformer\n",
    "from torch.optim import Adam\n",
    "import math\n",
    "# xb, yb =  get_batch(encoded_dataset['train'], device, block_size, batch_size)\n",
    "# model = Xformer(emb_dim, vocab_size, num_heads, num_layers, block_size, dropout).to(device)\n",
    "xb, yb =  get_batch(tokenized_tensors['train'], device, block_size, batch_size)\n",
    "model = Xformer(emb_dim, vocab_size, num_heads, num_layers, block_size, dropout).to(device)\n",
    "\n",
    "optimizer = Adam(model.parameters(), lr=0.001)\n",
    "logits, loss = model(xb,yb)\n",
    "xb.shape, yb.shape\n",
    "print('Measured loss:', loss.item())\n",
    "print('Expected loss:', -math.log(1./vocab_size))"
   ]
  },
  {
   "cell_type": "code",
   "execution_count": null,
   "metadata": {},
   "outputs": [],
   "source": [
    "from utils import get_model_size\n",
    "get_model_size(model)"
   ]
  },
  {
   "cell_type": "code",
   "execution_count": null,
   "metadata": {},
   "outputs": [],
   "source": [
    "# Function to do a learning rate sweep\n",
    "def get_lr_loss(model, optimizer, dataset, num_epochs, device, lr_start_exp=-3, lr_end_exp=0.5):\n",
    "\n",
    "    lrexp = torch.linspace(lr_start_exp, lr_end_exp, num_epochs, requires_grad=False)\n",
    "    lrs_val = 10**lrexp\n",
    "\n",
    "    lri = []\n",
    "    lossi = []\n",
    "    # Training loop with mini-batches and lr sweep\n",
    "    for epoch in range(num_epochs):\n",
    "\n",
    "        ## Set learning rate\n",
    "        for g in optimizer.param_groups:\n",
    "            g['lr'] = lrs_val[epoch]\n",
    "\n",
    "        xb, yb = get_batch(dataset, device, block_size, batch_size)\n",
    "\n",
    "\n",
    "        # Forward pass\n",
    "        _, loss = model(xb, yb)\n",
    "        lri.append(lrs_val[epoch])\n",
    "        lossi.append(loss.item())\n",
    "\n",
    "        # Backward pass and optimization\n",
    "        optimizer.zero_grad()\n",
    "        loss.backward()\n",
    "        optimizer.step()\n",
    "\n",
    "    return lri, lossi"
   ]
  },
  {
   "cell_type": "code",
   "execution_count": null,
   "metadata": {},
   "outputs": [],
   "source": [
    "# # ## Optimal lr sweep\n",
    "# from utils import get_lr_loss\n",
    "import matplotlib.pyplot as plt\n",
    "num_epochs = 100\n",
    "# lri, lossi =  get_lr_loss(model, optimizer, encoded_dataset['train'], num_epochs, device, -4, -2)\n",
    "lri, lossi =  get_lr_loss(model, optimizer, tokenized_tensors['train'], num_epochs, device, -4, -2)\n",
    "plt.plot(lri, lossi)\n",
    "# Add labels to the x-axis and y-axis\n",
    "plt.xlabel('LR (Learning Rate)')\n",
    "plt.ylabel('Loss')\n"
   ]
  },
  {
   "cell_type": "code",
   "execution_count": null,
   "metadata": {},
   "outputs": [],
   "source": [
    "## Initialize loss matrices and batch size\n",
    "tr_loss = []\n",
    "val_loss = []\n",
    "tr_loss_raw = []\n",
    "batch_size = 32"
   ]
  },
  {
   "cell_type": "code",
   "execution_count": null,
   "metadata": {},
   "outputs": [],
   "source": [
    "from utils import evaluate_loss\n",
    "from torch.optim.lr_scheduler import CosineAnnealingWarmRestarts\n",
    "\n",
    "## Initialize training parameters\n",
    "lr = 0.001\n",
    "optimizer = Adam(model.parameters(), lr=lr)\n",
    "\n",
    "# Define the parameters for the scheduler\n",
    "warmup_epochs = 5\n",
    "n_epochs = 100  # Adjust this according to your training duration\n",
    "scheduler = CosineAnnealingWarmRestarts(optimizer, T_0=n_epochs - warmup_epochs, T_mult=1, eta_min=0)\n",
    "\n",
    "for epoch in range(n_epochs):\n",
    "    # Adjust learning rate using scheduler\n",
    "    scheduler.step(epoch)\n",
    "    xtr, ytr = get_batch(tokenized_tensors['train'], device, block_size, batch_size)\n",
    "    xval, yval = get_batch(tokenized_tensors['validation'], device, block_size, batch_size)\n",
    "    eval_dataset = {'train': (xtr,ytr), 'validation': (xval, yval)}\n",
    "    logits, loss = model(xtr,ytr)\n",
    "    optimizer.zero_grad(set_to_none=True)\n",
    "    loss.backward()\n",
    "    optimizer.step()\n",
    "    tr_lossi, val_lossi = evaluate_loss(model, eval_dataset, num_batches=16)\n",
    "    tr_loss.append(tr_lossi)\n",
    "    val_loss.append(val_lossi)\n",
    "    tr_loss_raw.append(loss.item())\n",
    "\n",
    "    ## Print losses\n",
    "    if epoch % 10 == 0:\n",
    "        print(epoch, ' --> train loss: ', tr_lossi, 'validation loss: ', val_lossi, 'single shot loss:', loss.item())"
   ]
  },
  {
   "cell_type": "code",
   "execution_count": null,
   "metadata": {},
   "outputs": [],
   "source": [
    "## Plot loss \n",
    "import matplotlib.pyplot as plt\n",
    "\n",
    "plt.plot(tr_loss)\n",
    "plt.plot(val_loss)\n",
    "\n",
    "print('training loss: ', round(torch.mean(torch.tensor(tr_loss[-100:])).item(),4)), \n",
    "print('validation loss: ', round((torch.mean(torch.tensor(val_loss[-100:]))).item(),4))"
   ]
  },
  {
   "cell_type": "code",
   "execution_count": null,
   "metadata": {},
   "outputs": [],
   "source": [
    "from torch.nn import functional as F\n",
    "@torch.no_grad()\n",
    "def generate(model, idx, max_new_tokens, device, block_size=16):\n",
    "    \"\"\"Generates a single batch of names based on since of idx matrix. Accessed via print_samples\"\"\"\n",
    "    for _ in range(max_new_tokens):\n",
    "        # print('idx shape:',idx.shape)\n",
    "        # print(idx)\n",
    "        idx_cond = idx if idx.size(1) <= block_size else idx[:, -block_size:]\n",
    "        idx_cond = idx_cond.to(device)\n",
    "        logits, _ = model(idx_cond)\n",
    "        # Pick only the logits from most recent time step. Karpathy also does a divide by temp?\n",
    "        # This is just Platt scaling which makes the various Softmax curves closes adding more randomness\n",
    "        # see scratch.ipynb. https://en.wikipedia.org/wiki/Platt_scaling\n",
    "        logits = logits[:,-1,:]\n",
    "        probs = F.softmax(logits, dim=-1)\n",
    "        # print('prob dist:',probs)\n",
    "        idx_next = torch.multinomial(probs, num_samples=1)\n",
    "        # print('idx_next shape:',idx_next.shape)\n",
    "        idx = torch.cat((idx, idx_next), dim=1)\n",
    "    return idx"
   ]
  },
  {
   "cell_type": "code",
   "execution_count": null,
   "metadata": {},
   "outputs": [],
   "source": [
    "def print_samples(model, tokenizer, seed_text, max_new_tokens, device):\n",
    "    \"\"\" samples from the model and pretty prints the decoded samples \"\"\"\n",
    "    # X_init = torch.zeros((num, 1), dtype=torch.long).to(device)\n",
    "    seed_tokens = torch.tensor(tokenizer.encode(seed_text), dtype=torch.long).to(device)\n",
    "    seed_tokens = seed_tokens[None, ...]\n",
    "    X_samp = generate(model, seed_tokens, max_new_tokens, device)[:,1:].tolist()\n",
    "    # print(X_samp)\n",
    "    # # print(X_samp)\n",
    "    for row in X_samp:\n",
    "        crop_index = row.index(0) if 0 in row else len(row)\n",
    "        # print(row, crop_index)\n",
    "        row = row[:crop_index]\n",
    "        print(tokenizer.decode(row))"
   ]
  },
  {
   "cell_type": "code",
   "execution_count": null,
   "metadata": {},
   "outputs": [],
   "source": [
    "## Generate samples\n",
    "# from utils import print_samples\n",
    "print_samples(model, tokenizer, 'In the dark ages', 128, device)"
   ]
  },
  {
   "cell_type": "code",
   "execution_count": null,
   "metadata": {},
   "outputs": [],
   "source": [
    "# Specify the file path where you want to save the model weights\n",
    "file_path = 'model_weights.pt'\n",
    "\n",
    "# Save the model weights\n",
    "torch.save(model.state_dict(), file_path)"
   ]
  },
  {
   "cell_type": "code",
   "execution_count": null,
   "metadata": {},
   "outputs": [],
   "source": [
    "import torch\n",
    "model = Xformer(emb_dim, vocab_size, num_heads, num_layers, block_size, dropout).to(device)\n",
    "# Load the saved model weights\n",
    "file_path = 'wiki-2.pt'\n",
    "model.load_state_dict(torch.load(file_path))\n",
    "print_samples(model, tokenizer, 'In the dark ages', 128, device)"
   ]
  }
 ],
 "metadata": {
  "kernelspec": {
   "display_name": "Python 3",
   "language": "python",
   "name": "python3"
  },
  "language_info": {
   "codemirror_mode": {
    "name": "ipython",
    "version": 3
   },
   "file_extension": ".py",
   "mimetype": "text/x-python",
   "name": "python",
   "nbconvert_exporter": "python",
   "pygments_lexer": "ipython3",
   "version": "3.11.8"
  }
 },
 "nbformat": 4,
 "nbformat_minor": 2
}
