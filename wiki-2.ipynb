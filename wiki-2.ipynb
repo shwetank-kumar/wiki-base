{
 "cells": [
  {
   "cell_type": "code",
   "execution_count": 1,
   "metadata": {},
   "outputs": [
    {
     "name": "stdout",
     "output_type": "stream",
     "text": [
      "Device selected: mps\n"
     ]
    }
   ],
   "source": [
    "%load_ext autoreload\n",
    "%autoreload 2\n",
    "import torch\n",
    "from datasets import load_dataset\n",
    "from transformers import AutoTokenizer\n",
    "# Setup device\n",
    "# Check if CUDA is available\n",
    "if torch.cuda.is_available():\n",
    "    device = torch.device(\"cuda\")\n",
    "else:\n",
    "    # Check if MPS is available\n",
    "    if torch.backends.mps.is_available():\n",
    "        device = torch.device(\"mps\")\n",
    "    else:\n",
    "        # Fall back to CPU\n",
    "        device = torch.device(\"cpu\")\n",
    "\n",
    "print(\"Device selected:\", device)"
   ]
  },
  {
   "cell_type": "code",
   "execution_count": 2,
   "metadata": {},
   "outputs": [
    {
     "name": "stdout",
     "output_type": "stream",
     "text": [
      "DatasetDict({\n",
      "    test: Dataset({\n",
      "        features: ['text'],\n",
      "        num_rows: 4358\n",
      "    })\n",
      "    train: Dataset({\n",
      "        features: ['text'],\n",
      "        num_rows: 36718\n",
      "    })\n",
      "    validation: Dataset({\n",
      "        features: ['text'],\n",
      "        num_rows: 3760\n",
      "    })\n",
      "})\n"
     ]
    }
   ],
   "source": [
    "## Get data\n",
    "dataset = load_dataset(\"wikitext\", name=\"wikitext-2-raw-v1\")\n",
    "print(dataset)"
   ]
  },
  {
   "cell_type": "code",
   "execution_count": 3,
   "metadata": {},
   "outputs": [
    {
     "name": "stdout",
     "output_type": "stream",
     "text": [
      "{'text': ['', ' = Valkyria Chronicles III = \\n', '', ' Senjō no Valkyria 3 : Unrecorded Chronicles ( Japanese : 戦場のヴァルキュリア3 , lit . Valkyria of the Battlefield 3 ) , commonly referred to as Valkyria Chronicles III outside Japan , is a tactical role @-@ playing video game developed by Sega and Media.Vision for the PlayStation Portable . Released in January 2011 in Japan , it is the third game in the Valkyria series . Employing the same fusion of tactical and real @-@ time gameplay as its predecessors , the story runs parallel to the first game and follows the \" Nameless \" , a penal military unit serving the nation of Gallia during the Second Europan War who perform secret black operations and are pitted against the Imperial unit \" Calamaty Raven \" . \\n', \" The game began development in 2010 , carrying over a large portion of the work done on Valkyria Chronicles II . While it retained the standard features of the series , it also underwent multiple adjustments , such as making the game more forgiving for series newcomers . Character designer Raita Honjou and composer Hitoshi Sakimoto both returned from previous entries , along with Valkyria Chronicles II director Takeshi Ozawa . A large team of writers handled the script . The game 's opening theme was sung by May 'n . \\n\"]}\n"
     ]
    }
   ],
   "source": [
    "splits = ['train', 'validation', 'test']\n",
    "split = splits[0]\n",
    "print(dataset[split][:5])"
   ]
  },
  {
   "cell_type": "code",
   "execution_count": 4,
   "metadata": {},
   "outputs": [
    {
     "name": "stdout",
     "output_type": "stream",
     "text": [
      "True\n",
      "\n",
      "\n",
      "\n"
     ]
    }
   ],
   "source": [
    "## Train a new tokenizer using Wiki dataset from GPT2 tokenizer\n",
    "batch_size = 1000\n",
    "vocab_size = 25000\n",
    "chunk_size = 1024 # From GPT2\n",
    "\n",
    "def batch_iterator():\n",
    "    for split in splits:\n",
    "        for i in range(0, len(dataset[split]), batch_size):\n",
    "            yield dataset[split][i : i + batch_size][\"text\"]\n",
    "# all_texts = [dataset[i : i + batch_size][\"text\"] for i in range(0, len(dataset), batch_size)]\n",
    "\n",
    "gpt2_tokenizer = AutoTokenizer.from_pretrained(\"gpt2\")\n",
    "print(gpt2_tokenizer.is_fast)\n",
    "tokenizer = gpt2_tokenizer.train_new_from_iterator(batch_iterator(), vocab_size=25000)"
   ]
  },
  {
   "cell_type": "code",
   "execution_count": 5,
   "metadata": {},
   "outputs": [
    {
     "name": "stdout",
     "output_type": "stream",
     "text": [
      "[[], ['Ġ=', 'ĠValkyria', 'ĠChronicles', 'ĠIII', 'Ġ=', 'ĠĊ'], [], ['ĠSen', 'j', 'Åį', 'Ġno', 'ĠValkyria', 'Ġ3', 'Ġ:', 'ĠUn', 'rec', 'ord', 'ed', 'ĠChronicles', 'Ġ(', 'ĠJapanese', 'Ġ:', 'Ġæ', 'Ī', '¦', 'å', 'ł', '´', 'ãģ®', 'ãĥ', '´', 'ãĤ', '¡', 'ãĥ«', 'ãĤ', 'Ń', 'ãĥ', '¥', 'ãĥ', 'ªãĤ', '¢', '3', 'Ġ,', 'Ġlit', 'Ġ.', 'ĠValkyria', 'Ġof', 'Ġthe', 'ĠBattle', 'field', 'Ġ3', 'Ġ)', 'Ġ,', 'Ġcommonly', 'Ġreferred', 'Ġto', 'Ġas', 'ĠValkyria', 'ĠChronicles', 'ĠIII', 'Ġoutside', 'ĠJapan', 'Ġ,', 'Ġis', 'Ġa', 'Ġtactical', 'Ġrole', 'Ġ@-@', 'Ġplaying', 'Ġvideo', 'Ġgame', 'Ġdeveloped', 'Ġby', 'ĠSega', 'Ġand', 'ĠMedia', '.', 'V', 'ision', 'Ġfor', 'Ġthe', 'ĠPlayStation', 'ĠPortable', 'Ġ.', 'ĠReleased', 'Ġin', 'ĠJanuary', 'Ġ2011', 'Ġin', 'ĠJapan', 'Ġ,', 'Ġit', 'Ġis', 'Ġthe', 'Ġthird', 'Ġgame', 'Ġin', 'Ġthe', 'ĠValkyria', 'Ġseries', 'Ġ.', 'ĠEm', 'ploy', 'ing', 'Ġthe', 'Ġsame', 'Ġfusion', 'Ġof', 'Ġtactical', 'Ġand', 'Ġreal', 'Ġ@-@', 'Ġtime', 'Ġgameplay', 'Ġas', 'Ġits', 'Ġpredecessors', 'Ġ,', 'Ġthe', 'Ġstory', 'Ġruns', 'Ġparallel', 'Ġto', 'Ġthe', 'Ġfirst', 'Ġgame', 'Ġand', 'Ġfollows', 'Ġthe', 'Ġ\"', 'ĠNameless', 'Ġ\"', 'Ġ,', 'Ġa', 'Ġpenal', 'Ġmilitary', 'Ġunit', 'Ġserving', 'Ġthe', 'Ġnation', 'Ġof', 'ĠGall', 'ia', 'Ġduring', 'Ġthe', 'ĠSecond', 'ĠEurop', 'an', 'ĠWar', 'Ġwho', 'Ġperform', 'Ġsecret', 'Ġblack', 'Ġoperations', 'Ġand', 'Ġare', 'Ġpitted', 'Ġagainst', 'Ġthe', 'ĠImperial', 'Ġunit', 'Ġ\"', 'ĠCal', 'am', 'at', 'y', 'ĠRaven', 'Ġ\"', 'Ġ.', 'ĠĊ'], ['ĠThe', 'Ġgame', 'Ġbegan', 'Ġdevelopment', 'Ġin', 'Ġ2010', 'Ġ,', 'Ġcarrying', 'Ġover', 'Ġa', 'Ġlarge', 'Ġportion', 'Ġof', 'Ġthe', 'Ġwork', 'Ġdone', 'Ġon', 'ĠValkyria', 'ĠChronicles', 'ĠII', 'Ġ.', 'ĠWhile', 'Ġit', 'Ġretained', 'Ġthe', 'Ġstandard', 'Ġfeatures', 'Ġof', 'Ġthe', 'Ġseries', 'Ġ,', 'Ġit', 'Ġalso', 'Ġunderwent', 'Ġmultiple', 'Ġadjust', 'ments', 'Ġ,', 'Ġsuch', 'Ġas', 'Ġmaking', 'Ġthe', 'Ġgame', 'Ġmore', 'Ġforg', 'iving', 'Ġfor', 'Ġseries', 'Ġnew', 'com', 'ers', 'Ġ.', 'ĠCharacter', 'Ġdesigner', 'ĠRa', 'ita', 'ĠHon', 'j', 'ou', 'Ġand', 'Ġcomposer', 'ĠHit', 'oshi', 'ĠSak', 'imoto', 'Ġboth', 'Ġreturned', 'Ġfrom', 'Ġprevious', 'Ġentries', 'Ġ,', 'Ġalong', 'Ġwith', 'ĠValkyria', 'ĠChronicles', 'ĠII', 'Ġdirector', 'ĠTakes', 'hi', 'ĠOz', 'awa', 'Ġ.', 'ĠA', 'Ġlarge', 'Ġteam', 'Ġof', 'Ġwriters', 'Ġhandled', 'Ġthe', 'Ġscript', 'Ġ.', 'ĠThe', 'Ġgame', \"Ġ'\", 's', 'Ġopening', 'Ġtheme', 'Ġwas', 'Ġsung', 'Ġby', 'ĠMay', \"Ġ'\", 'n', 'Ġ.', 'ĠĊ']]\n"
     ]
    }
   ],
   "source": [
    "tokenized_text = [tokenizer.tokenize(r) for r in dataset['train'][:5][\"text\"]]\n",
    "print(tokenized_text)"
   ]
  },
  {
   "cell_type": "code",
   "execution_count": 6,
   "metadata": {},
   "outputs": [],
   "source": [
    "## Preprocess the dataset\n",
    "def preprocess_dataset(dataset, tokenizer, splits):\n",
    "    encoded_dataset = {}\n",
    "    \n",
    "    for s in splits:\n",
    "        dataset_string = ' '.join(dataset[s]['text'])\n",
    "        tokenized_chunks = []\n",
    "        chunk_size = 1024\n",
    "        \n",
    "        for i in range(0, len(dataset_string), chunk_size):\n",
    "            chunk = dataset_string[i:i + chunk_size]\n",
    "            encoded_chunk = tokenizer.encode(chunk)\n",
    "            tokenized_chunks.append(encoded_chunk)\n",
    "        \n",
    "        # Combine tokenized chunks into a single tensor\n",
    "        combined_chunks = [token for chunk in tokenized_chunks for token in chunk]\n",
    "        encoded_dataset[s] = torch.tensor(combined_chunks, dtype=torch.long)\n",
    "        \n",
    "    return encoded_dataset\n"
   ]
  },
  {
   "cell_type": "code",
   "execution_count": 7,
   "metadata": {},
   "outputs": [
    {
     "name": "stdout",
     "output_type": "stream",
     "text": [
      "tensor([  221,   301,  9823, 10724,  3252,   301,   315,   221,   221,  3707,\n",
      "           74,  4163,   903,  9823,   487,   545,   665,  6904,   486,   267])\n",
      "  = Valkyria Chronicles III = \n",
      "   Senjō no Valkyria 3 : Unrecorded\n"
     ]
    }
   ],
   "source": [
    "encoded_dataset = preprocess_dataset(dataset, tokenizer, splits)\n",
    "print(encoded_dataset['train'][:20])\n",
    "print(tokenizer.decode(encoded_dataset['train'][:20]))"
   ]
  },
  {
   "cell_type": "code",
   "execution_count": 8,
   "metadata": {},
   "outputs": [],
   "source": [
    "## Print tokens and text\n",
    "from utils import get_batch\n",
    "## Hyperparameters\n",
    "block_size = 128\n",
    "batch_size = 32\n",
    "emb_dim = 64\n",
    "num_layers = 4\n",
    "num_heads = 16\n",
    "dropout = 0.2\n",
    "# x_toks, y_toks = get_batch(encoded_dataset['train'], device, block_size, batch_size)\n",
    "# print(x_toks)\n",
    "# print(y_toks)\n",
    "# txt = [''.join(tokenizer.decode(t)) for t in x_toks.tolist()]\n",
    "# for row in txt:\n",
    "#     print(row)\n",
    "#     print('================')"
   ]
  },
  {
   "cell_type": "code",
   "execution_count": 9,
   "metadata": {},
   "outputs": [
    {
     "name": "stdout",
     "output_type": "stream",
     "text": [
      "Measured loss: 10.285148620605469\n",
      "Expected loss: 10.126631103850338\n"
     ]
    }
   ],
   "source": [
    "# Single test run\n",
    "from models import Xformer_Scratch as Xformer\n",
    "from torch.optim import Adam\n",
    "import math\n",
    "xb, yb =  get_batch(encoded_dataset['train'], device, block_size, batch_size)\n",
    "model = Xformer(emb_dim, vocab_size, num_heads, num_layers, block_size, dropout).to(device)\n",
    "optimizer = Adam(model.parameters(), lr=0.001)\n",
    "logits, loss = model(xb,yb)\n",
    "xb.shape, yb.shape\n",
    "print('Measured loss:', loss.item())\n",
    "print('Expected loss:', -math.log(1./vocab_size))"
   ]
  },
  {
   "cell_type": "code",
   "execution_count": 10,
   "metadata": {},
   "outputs": [
    {
     "data": {
      "text/plain": [
       "5024424"
      ]
     },
     "execution_count": 10,
     "metadata": {},
     "output_type": "execute_result"
    }
   ],
   "source": [
    "from utils import get_model_size\n",
    "get_model_size(model)"
   ]
  },
  {
   "cell_type": "code",
   "execution_count": 11,
   "metadata": {},
   "outputs": [],
   "source": [
    "# Function to do a learning rate sweep\n",
    "def get_lr_loss(model, optimizer, dataset, num_epochs, device, lr_start_exp=-3, lr_end_exp=0.5):\n",
    "\n",
    "    lrexp = torch.linspace(lr_start_exp, lr_end_exp, num_epochs, requires_grad=False)\n",
    "    lrs_val = 10**lrexp\n",
    "\n",
    "    lri = []\n",
    "    lossi = []\n",
    "    # Training loop with mini-batches and lr sweep\n",
    "    for epoch in range(num_epochs):\n",
    "\n",
    "        ## Set learning rate\n",
    "        for g in optimizer.param_groups:\n",
    "            g['lr'] = lrs_val[epoch]\n",
    "\n",
    "        xb, yb = get_batch(dataset, device, block_size, batch_size)\n",
    "\n",
    "\n",
    "        # Forward pass\n",
    "        _, loss = model(xb, yb)\n",
    "        lri.append(lrs_val[epoch])\n",
    "        lossi.append(loss.item())\n",
    "\n",
    "        # Backward pass and optimization\n",
    "        optimizer.zero_grad()\n",
    "        loss.backward()\n",
    "        optimizer.step()\n",
    "\n",
    "    return lri, lossi"
   ]
  },
  {
   "cell_type": "code",
   "execution_count": 12,
   "metadata": {},
   "outputs": [
    {
     "data": {
      "text/plain": [
       "Text(0, 0.5, 'Loss')"
      ]
     },
     "execution_count": 12,
     "metadata": {},
     "output_type": "execute_result"
    },
    {
     "data": {
      "image/png": "[encoded data removed]",
      "text/plain": [
       "<Figure size 640x480 with 1 Axes>"
      ]
     },
     "metadata": {},
     "output_type": "display_data"
    }
   ],
   "source": [
    "# # ## Optimal lr sweep\n",
    "# from utils import get_lr_loss\n",
    "import matplotlib.pyplot as plt\n",
    "num_epochs = 100\n",
    "lri, lossi =  get_lr_loss(model, optimizer, encoded_dataset['train'], num_epochs, device, -4, -2)\n",
    "plt.plot(lri, lossi)\n",
    "# Add labels to the x-axis and y-axis\n",
    "plt.xlabel('LR (Learning Rate)')\n",
    "plt.ylabel('Loss')\n"
   ]
  },
  {
   "cell_type": "code",
   "execution_count": 13,
   "metadata": {},
   "outputs": [],
   "source": [
    "## Initialize loss matrices and batch size\n",
    "tr_loss = []\n",
    "val_loss = []\n",
    "tr_loss_raw = []\n",
    "batch_size = 32"
   ]
  },
  {
   "cell_type": "code",
   "execution_count": 14,
   "metadata": {},
   "outputs": [
    {
     "name": "stdout",
     "output_type": "stream",
     "text": [
      "Learning rate: 0.001\n",
      "0  --> train loss:  7.071613311767578 validation loss:  7.1481547355651855 single shot loss: 7.145566463470459\n",
      "Learning rate: 0.000999726628670463\n",
      "Learning rate: 0.0009989068136093873\n",
      "Learning rate: 0.0009975414512725057\n",
      "Learning rate: 0.0009956320346634876\n",
      "Learning rate: 0.0009931806517013613\n",
      "Learning rate: 0.0009901899829374047\n",
      "Learning rate: 0.000986663298624003\n",
      "Learning rate: 0.0009826044551386743\n",
      "Learning rate: 0.0009780178907671788\n",
      "Learning rate: 0.0009729086208503173\n",
      "10  --> train loss:  7.170460224151611 validation loss:  7.196144104003906 single shot loss: 7.211848258972168\n",
      "Learning rate: 0.0009672822322997304\n",
      "Learning rate: 0.0009611448774886924\n",
      "Learning rate: 0.0009545032675245813\n",
      "Learning rate: 0.0009473646649103818\n",
      "Learning rate: 0.0009397368756032445\n",
      "Learning rate: 0.0009316282404787869\n",
      "Learning rate: 0.0009230476262104677\n",
      "Learning rate: 0.00091400441557401\n",
      "Learning rate: 0.0009045084971874737\n",
      "Learning rate: 0.0008945702546981969\n",
      "20  --> train loss:  7.154942512512207 validation loss:  7.156403064727783 single shot loss: 7.1833343505859375\n",
      "Learning rate: 0.0008842005554284296\n",
      "Learning rate: 0.000873410738492077\n",
      "Learning rate: 0.0008622126023955446\n",
      "Learning rate: 0.0008506183921362443\n",
      "Learning rate: 0.0008386407858128706\n",
      "Learning rate: 0.0008262928807620843\n",
      "Learning rate: 0.0008135881792367685\n",
      "Learning rate: 0.0008005405736415125\n",
      "Learning rate: 0.0007871643313414718\n",
      "Learning rate: 0.0007734740790612134\n",
      "30  --> train loss:  6.950783729553223 validation loss:  6.8421173095703125 single shot loss: 6.975318908691406\n",
      "Learning rate: 0.0007594847868906076\n",
      "Learning rate: 0.000745211751915254\n",
      "Learning rate: 0.000730670581489344\n",
      "Learning rate: 0.0007158771761692464\n",
      "Learning rate: 0.0007008477123264848\n",
      "Learning rate: 0.0006855986244591103\n",
      "Learning rate: 0.0006701465872208215\n",
      "Learning rate: 0.0006545084971874737\n",
      "Learning rate: 0.0006387014543809224\n",
      "Learning rate: 0.0006227427435703996\n",
      "40  --> train loss:  7.074314594268799 validation loss:  6.992809295654297 single shot loss: 7.09580135345459\n",
      "Learning rate: 0.0006066498153718735\n",
      "Learning rate: 0.0005904402671660549\n",
      "Learning rate: 0.000574131823855921\n",
      "Learning rate: 0.0005577423184847932\n",
      "Learning rate: 0.0005412896727361663\n",
      "Learning rate: 0.0005247918773366113\n",
      "Learning rate: 0.0005082669723831792\n",
      "Learning rate: 0.0004917330276168208\n",
      "Learning rate: 0.0004752081226633889\n",
      "Learning rate: 0.0004587103272638339\n",
      "50  --> train loss:  7.009212970733643 validation loss:  7.003872394561768 single shot loss: 7.027942657470703\n",
      "Learning rate: 0.00044225768151520705\n",
      "Learning rate: 0.00042586817614407896\n",
      "Learning rate: 0.0004095597328339451\n",
      "Learning rate: 0.00039335018462812664\n",
      "Learning rate: 0.00037725725642960046\n",
      "Learning rate: 0.00036129854561907783\n",
      "Learning rate: 0.00034549150281252644\n",
      "Learning rate: 0.0003298534127791785\n",
      "Learning rate: 0.00031440137554088963\n",
      "Learning rate: 0.0002991522876735154\n",
      "60  --> train loss:  6.869736194610596 validation loss:  7.02009916305542 single shot loss: 6.887860298156738\n",
      "Learning rate: 0.0002841228238307536\n",
      "Learning rate: 0.0002693294185106561\n",
      "Learning rate: 0.00025478824808474593\n",
      "Learning rate: 0.0002405152131093924\n",
      "Learning rate: 0.00022652592093878665\n",
      "Learning rate: 0.0002128356686585282\n",
      "Learning rate: 0.00019945942635848747\n",
      "Learning rate: 0.00018641182076323148\n",
      "Learning rate: 0.00017370711923791565\n",
      "Learning rate: 0.0001613592141871295\n",
      "70  --> train loss:  6.945342063903809 validation loss:  6.893805980682373 single shot loss: 6.96317195892334\n",
      "Learning rate: 0.00014938160786375572\n",
      "Learning rate: 0.00013778739760445552\n",
      "Learning rate: 0.0001265892615079232\n",
      "Learning rate: 0.00011579944457157043\n",
      "Learning rate: 0.00010542974530180327\n",
      "Learning rate: 9.549150281252633e-05\n",
      "Learning rate: 8.599558442598998e-05\n",
      "Learning rate: 7.695237378953234e-05\n",
      "Learning rate: 6.8371759521213e-05\n",
      "Learning rate: 6.026312439675552e-05\n",
      "80  --> train loss:  6.916144371032715 validation loss:  7.042323589324951 single shot loss: 6.93525505065918\n",
      "Learning rate: 5.2635335089618264e-05\n",
      "Learning rate: 4.549673247541885e-05\n",
      "Learning rate: 3.885512251130763e-05\n",
      "Learning rate: 3.271776770026952e-05\n",
      "Learning rate: 2.709137914968268e-05\n",
      "Learning rate: 2.198210923282118e-05\n",
      "Learning rate: 1.7395544861325717e-05\n",
      "Learning rate: 1.3336701375997129e-05\n",
      "Learning rate: 9.810017062595322e-06\n",
      "Learning rate: 6.819348298638839e-06\n",
      "90  --> train loss:  6.962348937988281 validation loss:  7.165150165557861 single shot loss: 6.977566719055176\n",
      "Learning rate: 4.367965336512402e-06\n",
      "Learning rate: 2.458548727494292e-06\n",
      "Learning rate: 1.0931863906127326e-06\n",
      "Learning rate: 2.733713295369755e-07\n",
      "Learning rate: 0.001\n",
      "Learning rate: 0.000999726628670463\n",
      "Learning rate: 0.0009989068136093873\n",
      "Learning rate: 0.0009975414512725057\n",
      "Learning rate: 0.0009956320346634876\n"
     ]
    }
   ],
   "source": [
    "from utils import evaluate_loss\n",
    "from torch.optim.lr_scheduler import CosineAnnealingWarmRestarts\n",
    "\n",
    "## Initialize training parameters\n",
    "lr = 0.001\n",
    "optimizer = Adam(model.parameters(), lr=lr)\n",
    "\n",
    "# Define the parameters for the scheduler\n",
    "warmup_epochs = 5\n",
    "n_epochs = 100  # Adjust this according to your training duration\n",
    "scheduler = CosineAnnealingWarmRestarts(optimizer, T_0=n_epochs - warmup_epochs, T_mult=1, eta_min=0)\n",
    "\n",
    "for epoch in range(n_epochs):\n",
    "    # Adjust learning rate using scheduler\n",
    "    scheduler.step(epoch)\n",
    "    \n",
    "    # for param_group in optimizer.param_groups:\n",
    "    #     print(\"Learning rate:\", param_group['lr'])\n",
    "\n",
    "    xtr, ytr = get_batch(encoded_dataset['train'], device, block_size, batch_size)\n",
    "    xval, yval = get_batch(encoded_dataset['validation'], device, block_size, batch_size)\n",
    "    eval_dataset = {'train': (xtr,ytr), 'validation': (xval, yval)}\n",
    "    logits, loss = model(xtr,ytr)\n",
    "    optimizer.zero_grad(set_to_none=True)\n",
    "    loss.backward()\n",
    "    optimizer.step()\n",
    "    tr_lossi, val_lossi = evaluate_loss(model, eval_dataset, num_batches=16)\n",
    "    tr_loss.append(tr_lossi)\n",
    "    val_loss.append(val_lossi)\n",
    "    tr_loss_raw.append(loss.item())\n",
    "\n",
    "    ## Print losses\n",
    "    if epoch % 10 == 0:\n",
    "        print(epoch, ' --> train loss: ', tr_lossi, 'validation loss: ', val_lossi, 'single shot loss:', loss.item())"
   ]
  },
  {
   "cell_type": "code",
   "execution_count": null,
   "metadata": {},
   "outputs": [],
   "source": [
    "## Plot loss \n",
    "import matplotlib.pyplot as plt\n",
    "\n",
    "plt.plot(tr_loss)\n",
    "plt.plot(val_loss)\n",
    "\n",
    "print('training loss: ', round(torch.mean(torch.tensor(tr_loss[-100:])).item(),4)), \n",
    "print('validation loss: ', round((torch.mean(torch.tensor(val_loss[-100:]))).item(),4))"
   ]
  },
  {
   "cell_type": "code",
   "execution_count": null,
   "metadata": {},
   "outputs": [],
   "source": [
    "from torch.nn import functional as F\n",
    "@torch.no_grad()\n",
    "def generate(model, idx, max_new_tokens, device, block_size=16):\n",
    "    \"\"\"Generates a single batch of names based on since of idx matrix. Accessed via print_samples\"\"\"\n",
    "    for _ in range(max_new_tokens):\n",
    "        # print('idx shape:',idx.shape)\n",
    "        # print(idx)\n",
    "        idx_cond = idx if idx.size(1) <= block_size else idx[:, -block_size:]\n",
    "        idx_cond = idx_cond.to(device)\n",
    "        logits, _ = model(idx_cond)\n",
    "        # Pick only the logits from most recent time step. Karpathy also does a divide by temp?\n",
    "        # This is just Platt scaling which makes the various Softmax curves closes adding more randomness\n",
    "        # see scratch.ipynb. https://en.wikipedia.org/wiki/Platt_scaling\n",
    "        logits = logits[:,-1,:]\n",
    "        probs = F.softmax(logits, dim=-1)\n",
    "        # print('prob dist:',probs)\n",
    "        idx_next = torch.multinomial(probs, num_samples=1)\n",
    "        # print('idx_next shape:',idx_next.shape)\n",
    "        idx = torch.cat((idx, idx_next), dim=1)\n",
    "    return idx"
   ]
  },
  {
   "cell_type": "code",
   "execution_count": null,
   "metadata": {},
   "outputs": [],
   "source": [
    "def print_samples(model, tokenizer, seed_text, max_new_tokens, device):\n",
    "    \"\"\" samples from the model and pretty prints the decoded samples \"\"\"\n",
    "    # X_init = torch.zeros((num, 1), dtype=torch.long).to(device)\n",
    "    seed_tokens = torch.tensor(tokenizer.encode(seed_text), dtype=torch.long).to(device)\n",
    "    seed_tokens = seed_tokens[None, ...]\n",
    "    X_samp = generate(model, seed_tokens, max_new_tokens, device)[:,1:].tolist()\n",
    "    # print(X_samp)\n",
    "    # # print(X_samp)\n",
    "    for row in X_samp:\n",
    "        crop_index = row.index(0) if 0 in row else len(row)\n",
    "        # print(row, crop_index)\n",
    "        row = row[:crop_index]\n",
    "        print(tokenizer.decode(row))"
   ]
  },
  {
   "cell_type": "code",
   "execution_count": null,
   "metadata": {},
   "outputs": [],
   "source": [
    "## Generate samples\n",
    "# from utils import print_samples\n",
    "print_samples(model, tokenizer, 'In the dark ages', 128, device)"
   ]
  },
  {
   "cell_type": "code",
   "execution_count": null,
   "metadata": {},
   "outputs": [],
   "source": [
    "# Specify the file path where you want to save the model weights\n",
    "file_path = 'model_weights.pt'\n",
    "\n",
    "# Save the model weights\n",
    "torch.save(model.state_dict(), file_path)"
   ]
  },
  {
   "cell_type": "code",
   "execution_count": null,
   "metadata": {},
   "outputs": [],
   "source": [
    "import torch\n",
    "model = Xformer(emb_dim, vocab_size, num_heads, num_layers, block_size, dropout).to(device)\n",
    "# Load the saved model weights\n",
    "file_path = 'wiki-2.pt'\n",
    "model.load_state_dict(torch.load(file_path))\n",
    "print_samples(model, tokenizer, 'In the dark ages', 128, device)"
   ]
  }
 ],
 "metadata": {
  "kernelspec": {
   "display_name": "Python 3",
   "language": "python",
   "name": "python3"
  },
  "language_info": {
   "codemirror_mode": {
    "name": "ipython",
    "version": 3
   },
   "file_extension": ".py",
   "mimetype": "text/x-python",
   "name": "python",
   "nbconvert_exporter": "python",
   "pygments_lexer": "ipython3",
   "version": "3.11.8"
  }
 },
 "nbformat": 4,
 "nbformat_minor": 2
}
