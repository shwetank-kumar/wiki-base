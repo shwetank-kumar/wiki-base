{
 "cells": [
  {
   "cell_type": "code",
<<<<<<< HEAD
   "execution_count": null,
   "metadata": {},
   "outputs": [],
   "source": [
    "%load_ext autoreload\n",
    "%autoreload 2\n",
    "import sys\n",
    "sys.path.append('/Users/shwetank/code/wiki-base')\n",
    "import torch\n",
    "# from datasets import load_dataset\n",
    "# import tiktoken\n",
    "\n",
    "# Setup device\n",
    "device = torch.device(\"mps\") if torch.backends.mps.is_available() else torch.device(\"cpu\")"
=======
   "execution_count": 23,
   "metadata": {},
   "outputs": [
    {
     "name": "stdout",
     "output_type": "stream",
     "text": [
      "The autoreload extension is already loaded. To reload it, use:\n",
      "  %reload_ext autoreload\n"
     ]
    }
   ],
   "source": [
    "%load_ext autoreload\n",
    "%autoreload 2\n",
    "# from datasets import load_dataset\n",
    "import torch\n",
    "# import tiktoken\n",
    "from utils import create_dataset, CharDataset\n",
    "import random\n",
    "from torch.utils.data import Dataset\n",
    "\n",
    "# Setup device\n",
    "device = torch.device(\"cuda\")"
>>>>>>> 30b3a90 (stashing)
   ]
  },
  {
   "cell_type": "code",
<<<<<<< HEAD
   "execution_count": null,
=======
   "execution_count": 24,
   "metadata": {},
   "outputs": [
    {
     "data": {
      "text/plain": [
       "device(type='cuda')"
      ]
     },
     "execution_count": 24,
     "metadata": {},
     "output_type": "execute_result"
    }
   ],
   "source": [
    "device"
   ]
  },
  {
   "cell_type": "code",
   "execution_count": 25,
>>>>>>> 30b3a90 (stashing)
   "metadata": {},
   "outputs": [],
   "source": [
    "# Hyperparams\n",
    "batch_size = 32\n",
    "block_size = 128\n",
<<<<<<< HEAD
    "emb_dim = 384\n",
    "num_heads = 6\n",
    "num_layers = 4\n",
    "dropout = 0.2\n",
    "linear_scaleup = 4\n",
    "temperature = 1\n",
=======
    "emb_dim = 768\n",
    "num_heads = 12\n",
    "num_layers = 12\n",
    "dropout = 0.3\n",
    "linear_scaleup = 4\n",
    "temperature = 2\n",
    "weights_decay = 0.01\n",
>>>>>>> 30b3a90 (stashing)
    "\n",
    "# Optimization loop parameters\n",
    "n_epochs = 100\n",
    "eval_interval =10"
   ]
  },
  {
   "cell_type": "code",
<<<<<<< HEAD
=======
   "execution_count": 26,
   "metadata": {},
   "outputs": [],
   "source": [
    "# Read file and create training and validataion sets\n",
    "text_data, vocab, max_length = create_dataset('./data/shakespeare/input.txt')\n",
    "# print(len(names), vocab, max_length)\n",
    "n1 = int(0.9*len(text_data))\n",
    "train_data_words = CharDataset(text_data[:n1], vocab=vocab, max_length=max_length)\n",
    "val_data_words = CharDataset(text_data[n1:], vocab=vocab, max_length=max_length)\n"
   ]
  },
  {
   "cell_type": "code",
   "execution_count": 27,
   "metadata": {},
   "outputs": [
    {
     "data": {
      "text/plain": [
       "1003854"
      ]
     },
     "execution_count": 27,
     "metadata": {},
     "output_type": "execute_result"
    }
   ],
   "source": [
    "len(train_data_words)"
   ]
  },
  {
   "cell_type": "code",
   "execution_count": 28,
   "metadata": {},
   "outputs": [
    {
     "name": "stdout",
     "output_type": "stream",
     "text": [
      "First Citizen:\n",
      "Before we proceed any further, hear me speak.\n",
      "\n",
      "All:\n",
      "Speak, speak.\n",
      "\n",
      "First Citizen:\n",
      "You\n",
      "First Citi\n"
     ]
    },
    {
     "ename": "RuntimeError",
     "evalue": "The expanded size of the tensor (1) must match the existing size (10) at non-singleton dimension 0.  Target sizes: [1].  Tensor sizes: [10]",
     "output_type": "error",
     "traceback": [
      "\u001b[0;31m---------------------------------------------------------------------------\u001b[0m",
      "\u001b[0;31mRuntimeError\u001b[0m                              Traceback (most recent call last)",
      "Cell \u001b[0;32mIn[28], line 1\u001b[0m\n\u001b[0;32m----> 1\u001b[0m \u001b[38;5;28mprint\u001b[39m(\u001b[43mtrain_data_words\u001b[49m\u001b[43m[\u001b[49m\u001b[43m:\u001b[49m\u001b[38;5;241;43m10\u001b[39;49m\u001b[43m]\u001b[49m)\n\u001b[1;32m      2\u001b[0m \u001b[38;5;66;03m# print(\"------------\")\u001b[39;00m\n\u001b[1;32m      3\u001b[0m \u001b[38;5;66;03m# print(val_data_words[0:200])\u001b[39;00m\n",
      "File \u001b[0;32m~/code/wiki-base/utils.py:42\u001b[0m, in \u001b[0;36mCharDataset.__getitem__\u001b[0;34m(self, idx)\u001b[0m\n\u001b[1;32m     40\u001b[0m y \u001b[38;5;241m=\u001b[39m torch\u001b[38;5;241m.\u001b[39mzeros(\u001b[38;5;28mself\u001b[39m\u001b[38;5;241m.\u001b[39mmax_length\u001b[38;5;241m+\u001b[39m\u001b[38;5;241m1\u001b[39m, dtype\u001b[38;5;241m=\u001b[39mtorch\u001b[38;5;241m.\u001b[39mlong)\n\u001b[1;32m     41\u001b[0m ix \u001b[38;5;241m=\u001b[39m \u001b[38;5;28mself\u001b[39m\u001b[38;5;241m.\u001b[39mencode(word)\n\u001b[0;32m---> 42\u001b[0m \u001b[43mx\u001b[49m\u001b[43m[\u001b[49m\u001b[38;5;241;43m1\u001b[39;49m\u001b[43m:\u001b[49m\u001b[38;5;241;43m1\u001b[39;49m\u001b[38;5;241;43m+\u001b[39;49m\u001b[38;5;28;43mlen\u001b[39;49m\u001b[43m(\u001b[49m\u001b[43mix\u001b[49m\u001b[43m)\u001b[49m\u001b[43m]\u001b[49m \u001b[38;5;241m=\u001b[39m ix\n\u001b[1;32m     43\u001b[0m y[:\u001b[38;5;28mlen\u001b[39m(ix)] \u001b[38;5;241m=\u001b[39m ix\n\u001b[1;32m     44\u001b[0m y[\u001b[38;5;28mlen\u001b[39m(ix)\u001b[38;5;241m+\u001b[39m\u001b[38;5;241m1\u001b[39m:] \u001b[38;5;241m=\u001b[39m \u001b[38;5;241m-\u001b[39m\u001b[38;5;241m1\u001b[39m\n",
      "\u001b[0;31mRuntimeError\u001b[0m: The expanded size of the tensor (1) must match the existing size (10) at non-singleton dimension 0.  Target sizes: [1].  Tensor sizes: [10]"
     ]
    }
   ],
   "source": [
    "print(train_data_words[:10])\n",
    "# print(\"------------\")\n",
    "# print(val_data_words[0:200])"
   ]
  },
  {
   "cell_type": "code",
   "execution_count": null,
   "metadata": {},
   "outputs": [],
   "source": [
    "## Basic stats on training and val sets\n",
    "set_train_chars = sorted(set(list(train_data_words)))\n",
    "set_val_chars = sorted(set(list(val_data_words)))\n",
    "# Print all character types used and size of that set\n",
    "print(f\"Characters in training data: {set_train_chars }\")\n",
    "print(f\"Characters in training data: {set_val_chars }\")\n",
    "print(f\"Training data size: {len(set_train_chars)}\")\n",
    "print(f\"Training data size: {len(set_val_chars)}\")"
   ]
  },
  {
   "cell_type": "code",
>>>>>>> 30b3a90 (stashing)
   "execution_count": null,
   "metadata": {},
   "outputs": [],
   "source": [
<<<<<<< HEAD
    "with open('./data/shakespeare/input.txt', 'r', encoding='utf-8') as file:\n",
    "    text_data = file.read()\n",
    "\n",
    "n1 = int(0.9*len(text_data))\n",
    "train_data = text_data[:n1]\n",
    "val_data = text_data[n1:]\n",
    "vocab = sorted(set(list(text_data)))\n",
    "n_vocab = len(vocab)\n",
    "print(f\"vocab: {vocab}\")\n",
    "print(f\"vocab length: {n_vocab}\")"
=======
    "# Create tokenized text blobs\n",
    "tokenizer = tiktoken.get_encoding(\"cl100k_base\")\n",
    "train_tokens = tokenizer.encode(train_data_words)\n",
    "val_tokens = tokenizer.encode(val_data_words)\n",
    "\n",
    "# Convert to tokenized text tensors\n",
    "train_tensor = torch.squeeze(torch.tensor(train_tokens, dtype=torch.long))\n",
    "val_tensor = torch.tensor(val_tokens, dtype=torch.long)\n",
    "print(f\"Number of training tokens: {list(train_tensor.shape)[0]}, validation tokens: {list(val_tensor.shape)[0]}\")"
>>>>>>> 30b3a90 (stashing)
   ]
  },
  {
   "cell_type": "code",
   "execution_count": null,
   "metadata": {},
   "outputs": [],
   "source": [
    "from torch.utils.data import Dataset\n",
    "import torch\n",
    "\n",
<<<<<<< HEAD
    "class CharacterDataset(Dataset):\n",
    "    def __init__(self, dataset: Dataset, block_size: int=128, batch_size: int=16):\n",
    "        self.block_size = block_size\n",
    "        self.dataset = dataset\n",
    "        self.batch_size = batch_size\n",
=======
    "class WikiData(Dataset):\n",
    "    def __init__(self, dataset: Dataset, block_size: int=128, batch_size: int=64):\n",
    "        self.block_size = block_size\n",
    "        self.batch_size = batch_size\n",
    "        self.dataset = dataset\n",
>>>>>>> 30b3a90 (stashing)
    "        \n",
    "\n",
    "    def __len__(self) -> int:\n",
    "        return self.block_size\n",
    "\n",
    "    def __getitem__(self, idx: int) -> tuple[torch.tensor, torch.tensor]:\n",
<<<<<<< HEAD
    "        x = torch.zeros((self.block_size + 1), dtype=torch.long)\n",
    "        y = torch.zeros((self.block_size + 1), dtype=torch.long)\n",
=======
    "        x = torch.zeros((self.batch_size,self.block_size + 1), dtype=torch.long)\n",
    "        y = torch.zeros((self.batch_size,self.block_size + 1), dtype=torch.long)\n",
>>>>>>> 30b3a90 (stashing)
    "        # print(idx)\n",
    "        x = self.dataset[idx:idx+self.block_size]\n",
    "        y = self.dataset[idx+1:idx+self.block_size+1]\n",
    "        return x.to(device), y.to(device)"
   ]
  },
  {
   "cell_type": "code",
   "execution_count": null,
   "metadata": {},
   "outputs": [],
   "source": [
<<<<<<< HEAD
    "stoi = {s: i for i,s in enumerate(vocab)}\n",
    "itos = {i:s for s,i in stoi.items()}\n",
    "# print(stoi)\n",
    "# print(itos)\n",
    "def encode(text):\n",
    "    tokens = torch.tensor([stoi[t] for t in text])\n",
    "    return tokens\n",
    "\n",
    "def decode(tokens):\n",
    "    text = ''.join(itos[t] for t in tokens)\n",
    "    return text\n",
    "\n",
    "# tokens = encode('Hello world!')\n",
    "# print(decode(tokens))"
   ]
  },
  {
   "cell_type": "code",
   "execution_count": null,
   "metadata": {},
   "outputs": [],
   "source": [
=======
>>>>>>> 30b3a90 (stashing)
    "import torch.nn as nn\n",
    "import torch.nn.functional as F\n",
    "\n",
    "class Feedforward(nn.Module):\n",
    "    def __init__(self,emb_dim,dropout) -> None:\n",
    "        super().__init__()\n",
    "        self.ff = nn.Sequential(\n",
    "            nn.Linear(emb_dim, linear_scaleup * emb_dim),\n",
<<<<<<< HEAD
    "            nn.ReLU(),\n",
=======
    "            nn.GELU(),\n",
>>>>>>> 30b3a90 (stashing)
    "            nn.Linear(linear_scaleup * emb_dim, emb_dim),\n",
    "            nn.Dropout(dropout)\n",
    "        )\n",
    "\n",
    "    def forward(self,x):\n",
    "        return self.ff(x)\n",
    "\n",
    "class Block(nn.Module):\n",
    "    def __init__(self, emb_dim, num_heads, dropout) -> None:\n",
    "        super().__init__()\n",
    "        self.head_size = emb_dim // num_heads\n",
    "        self.sa_head = nn.MultiheadAttention(emb_dim, num_heads, dropout)\n",
    "        self.ff = Feedforward(emb_dim, dropout)\n",
    "        self.ln1 = nn.LayerNorm(emb_dim)\n",
    "        self.ln2 = nn.LayerNorm(emb_dim)\n",
    "\n",
    "    def forward(self, x, targets=None):\n",
    "        x = self.ln1(x)\n",
    "        sa_out, _ = self.sa_head(x,x,x)\n",
    "        x = x + sa_out\n",
    "        x = x + self.ff(self.ln2(x))\n",
    "        return x\n",
    "\n",
    "\n",
    "class Xformer(nn.Module):\n",
<<<<<<< HEAD
    "    def __init__(self, emb_dim, n_vocab, num_heads, num_layers, dropout): \n",
    "        super().__init__()\n",
    "        self.tok_emb = nn.Embedding(n_vocab, emb_dim)\n",
    "        self.pos_emb = nn.Embedding(n_vocab, emb_dim)\n",
    "       \n",
=======
    "    def __init__(self, emb_dim, num_heads, num_layers, dropout): \n",
    "        super().__init__()\n",
    "        self.tok_emb = nn.Embedding(tokenizer.n_vocab, emb_dim)\n",
    "        self.pos_emb = nn.Embedding(tokenizer.n_vocab, emb_dim)\n",
>>>>>>> 30b3a90 (stashing)
    "        blocks = []\n",
    "        for _ in range(num_layers):\n",
    "            blocks.append(Block(emb_dim, num_heads, dropout))\n",
    "        \n",
    "        self.blocks = nn.Sequential(*blocks, nn.LayerNorm(emb_dim))\n",
<<<<<<< HEAD
    "        self.lm_head = nn.Linear(emb_dim, n_vocab)\n",
=======
    "        self.lm_head = nn.Linear(emb_dim, tokenizer.n_vocab)\n",
>>>>>>> 30b3a90 (stashing)
    "\n",
    "    def forward(self, x, targets=None):\n",
    "        x = self.tok_emb(x) + self.pos_emb(x)\n",
    "        x = self.blocks(x)\n",
    "        logits = self.lm_head(x)\n",
    "\n",
    "        loss = None\n",
    "        if targets is not None:\n",
    "            # print(logits.view(-1, logits.size(-1)).shape, targets.view(-1).shape)\n",
    "            loss = F.cross_entropy(logits.view(-1, logits.size(-1)), targets.view(-1), ignore_index=-1)\n",
    "\n",
    "        return(logits,loss)"
   ]
  },
  {
   "cell_type": "code",
   "execution_count": null,
   "metadata": {},
   "outputs": [],
   "source": [
    "## Get dataloader for train and  val datasets from training and test data\n",
<<<<<<< HEAD
    "# from torch.utils.data import DataLoader\n",
    "# train_data_obj = WikiData(train_tensor, block_size=block_size)\n",
    "# val_data_obj = WikiData(val_tensor, block_size=block_size)\n",
    "# train_dataloader = DataLoader(train_data_obj, batch_size=1)\n",
    "# val_dataloader = DataLoader(val_data_obj, batch_size=1)\n",
    "from torch.utils.data import DataLoader\n",
    "train_dataloader = DataLoader(CharacterDataset(encode(train_data)),batch_size=batch_size)\n",
    "val_dataloader = DataLoader(CharacterDataset(encode(val_data)), batch_size=batch_size)"
=======
    "from torch.utils.data import DataLoader\n",
    "train_data_obj = WikiData(train_tensor, block_size=block_size)\n",
    "val_data_obj = WikiData(val_tensor, block_size=block_size)\n",
    "train_dataloader = DataLoader(train_data_obj, batch_size=1)\n",
    "val_dataloader = DataLoader(val_data_obj, batch_size=1)"
>>>>>>> 30b3a90 (stashing)
   ]
  },
  {
   "cell_type": "code",
   "execution_count": null,
   "metadata": {},
   "outputs": [],
   "source": [
    "# Single test run\n",
<<<<<<< HEAD
    "from torch.optim import Adam\n",
    "xb, yb = next(iter(train_dataloader))\n",
    "# print(xb.shape, yb.shape)\n",
    "model = Xformer(emb_dim, n_vocab, num_heads, num_layers, dropout).to(device)\n",
=======
    "from torch.optim import Adam, AdamW\n",
    "xb, yb = next(iter(train_dataloader))\n",
    "print(xb.shape, yb.shape)\n",
    "model = Xformer(emb_dim, num_heads, num_layers, dropout).to(device)\n",
    "optimizer = Adam(model.parameters(), lr=0.001)\n",
>>>>>>> 30b3a90 (stashing)
    "logits, loss = model(xb,yb)\n",
    "print(loss)"
   ]
  },
  {
   "cell_type": "code",
   "execution_count": null,
   "metadata": {},
   "outputs": [],
   "source": [
    "from utils import get_model_size\n",
<<<<<<< HEAD
    "get_model_size(model)"
   ]
  },
  {
   "cell_type": "code",
   "execution_count": null,
   "metadata": {},
   "outputs": [],
   "source": [
    "xb, yb = next(iter(train_dataloader))\n",
    "print(xb.shape, yb.shape)"
=======
    "get_model_size(model)/1e6"
>>>>>>> 30b3a90 (stashing)
   ]
  },
  {
   "cell_type": "code",
   "execution_count": null,
   "metadata": {},
   "outputs": [],
   "source": [
    "# ## Optimal lr sweep\n",
<<<<<<< HEAD
    "# from utils import get_lr_loss\n",
    "# import matplotlib.pyplot as plt\n",
    "# num_epochs = 100\n",
    "# lri, lossi =  get_lr_loss(model, optimizer, train_dataloader, num_epochs, device, -5, -3)\n",
    "# plt.plot(lri, lossi)\n",
    "# # Add labels to the x-axis and y-axis\n",
    "# plt.xlabel('LR (Learning Rate)')\n",
    "# plt.ylabel('Loss')"
=======
    "from utils import get_lr_loss\n",
    "import matplotlib.pyplot as plt\n",
    "num_epochs = 100\n",
    "lri, lossi =  get_lr_loss(model, optimizer, train_dataloader, num_epochs, device, -5, -3)\n",
    "plt.plot(lri, lossi)\n",
    "# Add labels to the x-axis and y-axis\n",
    "plt.xlabel('LR (Learning Rate)')\n",
    "plt.ylabel('Loss')"
>>>>>>> 30b3a90 (stashing)
   ]
  },
  {
   "cell_type": "code",
   "execution_count": null,
   "metadata": {},
   "outputs": [],
   "source": [
<<<<<<< HEAD
=======
    "train_dataloader = DataLoader(train_data_obj, batch_size=batch_size)\n",
    "val_dataloader = DataLoader(val_data_obj, batch_size=batch_size)\n",
>>>>>>> 30b3a90 (stashing)
    "tr_loss = []\n",
    "vl_loss = []"
   ]
  },
  {
   "cell_type": "code",
   "execution_count": null,
   "metadata": {},
   "outputs": [],
   "source": [
    "from utils import evaluate_loss\n",
<<<<<<< HEAD
    "lr = 1e-6\n",
    "optimizer = Adam(model.parameters(), lr=lr)\n",
    "for steps in range(2000):\n",
=======
    "lr = 1e-5\n",
    "optimizer = Adam(model.parameters(), lr=lr, weight_decay=weights_decay)\n",
    "for steps in range(10):\n",
>>>>>>> 30b3a90 (stashing)
    "    xb, yb = next(iter(train_dataloader))\n",
    "    xb = xb.to(device)\n",
    "    yb = yb.to(device)\n",
    "    logits, loss = model(xb,yb)\n",
    "    optimizer.zero_grad(set_to_none=True)\n",
    "    loss.backward()\n",
    "    optimizer.step()\n",
<<<<<<< HEAD
    "    tr_lossi, te_lossi = evaluate_loss(model, train_dataloader, val_dataloader, device, num_batches=10)\n",
    "    tr_loss.append(tr_lossi)\n",
    "    vl_loss.append(te_lossi)\n",
    "    # print(loss.item())\n",
    "\n",
    "    if steps % eval_interval-1 == 0:\n",
    "        print('ltr: ', tr_lossi, 'lte: ', te_lossi, 'single shot loss:', loss.item())"
=======
    "    tr_lossi, vl_lossi = evaluate_loss(model, train_dataloader, val_dataloader, device, num_batches=10)\n",
    "    tr_loss.append(tr_lossi)\n",
    "    vl_loss.append(vl_lossi)\n",
    "    print('tr_loss: ', tr_lossi, 'val_loss: ', vl_lossi, 'single shot loss:', loss.item())\n",
    "\n",
    "    # if steps % eval_interval-1 == 0:\n",
    "    #     print('tr_loss: ', tr_lossi, 'val_loss: ', vl_lossi, 'single shot loss:', loss.item())"
>>>>>>> 30b3a90 (stashing)
   ]
  },
  {
   "cell_type": "code",
   "execution_count": null,
   "metadata": {},
   "outputs": [],
   "source": [
    "## Plot loss \n",
    "import matplotlib.pyplot as plt\n",
    "\n",
<<<<<<< HEAD
    "plt.figure()\n",
    "plt.plot(tr_loss, label='Training Loss')\n",
    "# plt.figure()\n",
    "plt.plot(vl_loss, label='Validation Loss')\n",
=======
    "plt.plot(tr_loss[-50:], label='Training Loss')\n",
    "plt.plot(vl_loss[-50:], label='Validation Loss')\n",
>>>>>>> 30b3a90 (stashing)
    "plt.legend()\n",
    "plt.show()\n",
    "print('training loss: ', round(torch.mean(torch.tensor(tr_loss[-10:])).item(),4)), \n",
    "print('validation loss: ', round((torch.mean(torch.tensor(vl_loss[-10:]))).item(),4))"
   ]
  },
  {
   "cell_type": "code",
   "execution_count": null,
   "metadata": {},
   "outputs": [],
   "source": [
    "@torch.no_grad()\n",
<<<<<<< HEAD
    "def generate(model, max_new_tokens=block_size, batch_size=batch_size, temperature=temperature):\n",
    "    idx = torch.zeros((batch_size, 1), dtype=torch.long).to(device)\n",
=======
    "def generate(model, max_new_tokens=block_size, stub='', batch_size=1,temperature=temperature):\n",
    "    stub_token = tokenizer.encode(stub)\n",
    "    stub_token_tensor = torch.tensor(stub_token, dtype=torch.long).to(device)\n",
    "    idx = torch.unsqueeze(stub_token_tensor, dim=0)\n",
>>>>>>> 30b3a90 (stashing)
    "    for _ in range(max_new_tokens):\n",
    "        # print('idx shape:',idx.shape)\n",
    "        idx_cond = idx if idx.size(1) <= block_size else idx[:, -block_size:]\n",
    "        idx_cond = idx_cond.to(device)\n",
    "        logits, _ = model(idx_cond)\n",
    "        # Pick only the logits from most recent time step. Karpathy also does a divide by temp?\n",
    "        # This is just Platt scaling which makes the various Softmax curves closes adding more randomness\n",
    "        # see scratch.ipynb. https://en.wikipedia.org/wiki/Platt_scaling\n",
    "        logits = logits[:,-1,:]/temperature\n",
    "        probs = F.softmax(logits, dim=-1)\n",
    "        # print('prob dist:',probs)\n",
    "        idx_next = torch.multinomial(probs, num_samples=1)\n",
    "        # print('idx_next shape:',idx_next.shape)\n",
    "        idx = torch.cat((idx, idx_next), dim=1)\n",
<<<<<<< HEAD
    "    return idx\n"
=======
    "\n",
    "    sample = tokenizer.decode(idx[0].tolist())\n",
    "\n",
    "    return sample\n",
    "\n"
>>>>>>> 30b3a90 (stashing)
   ]
  },
  {
   "cell_type": "code",
   "execution_count": null,
   "metadata": {},
   "outputs": [],
   "source": [
<<<<<<< HEAD
    "X_samp = generate(model, block_size, 1, temperature).tolist()"
=======
    "stub = \"To be or not to be \"\n",
    "samples = generate(model, block_size, stub, temperature)\n",
    "print(samples)"
>>>>>>> 30b3a90 (stashing)
   ]
  },
  {
   "cell_type": "code",
   "execution_count": null,
   "metadata": {},
   "outputs": [],
   "source": [
<<<<<<< HEAD
    "for row in X_samp:\n",
    "    print(decode(row))"
=======
    "# Specify the file path where you want to save the model weights\n",
    "file_path = 'shakespeare.pth'\n",
    "\n",
    "# Save the model weights\n",
    "torch.save(model.state_dict(), file_path)"
>>>>>>> 30b3a90 (stashing)
   ]
  },
  {
   "cell_type": "code",
   "execution_count": null,
   "metadata": {},
   "outputs": [],
   "source": []
  }
 ],
 "metadata": {
  "kernelspec": {
   "display_name": "Python 3",
   "language": "python",
   "name": "python3"
  },
  "language_info": {
   "codemirror_mode": {
    "name": "ipython",
    "version": 3
   },
   "file_extension": ".py",
   "mimetype": "text/x-python",
   "name": "python",
   "nbconvert_exporter": "python",
   "pygments_lexer": "ipython3",
   "version": "3.10.13"
  }
 },
 "nbformat": 4,
 "nbformat_minor": 2
}
