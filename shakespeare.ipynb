{
 "cells": [
  {
   "cell_type": "code",
   "execution_count": null,
   "metadata": {},
   "outputs": [],
   "source": [
    "%load_ext autoreload\n",
    "%autoreload 2\n",
    "import sys\n",
    "sys.path.append('/Users/shwetank/code/wiki-base')\n",
    "import torch\n",
    "# from datasets import load_dataset\n",
    "# import tiktoken\n",
    "\n",
    "# Setup device\n",
    "# Check if CUDA is available\n",
    "if torch.cuda.is_available():\n",
    "    device = torch.device(\"cuda\")\n",
    "else:\n",
    "    # Check if MPS is available\n",
    "    if torch.backends.mps.is_available():\n",
    "        device = torch.device(\"mps\")\n",
    "    else:\n",
    "        # Fall back to CPU\n",
    "        device = torch.device(\"cpu\")\n",
    "\n",
    "print(\"Device selected:\", device)"
   ]
  },
  {
   "cell_type": "code",
   "execution_count": null,
   "metadata": {},
   "outputs": [],
   "source": [
    "# Hyperparams\n",
    "batch_size = 128\n",
    "block_size = 256\n",
    "emb_dim = 384\n",
    "num_heads = 6\n",
    "num_layers = 6\n",
    "dropout = 0.2\n",
    "linear_scaleup = 4\n",
    "temperature = 1\n",
    "\n",
    "# Optimization loop parameters\n",
    "n_epochs = 100\n",
    "eval_interval =10\n",
    "eval_iters = 4"
   ]
  },
  {
   "cell_type": "code",
   "execution_count": null,
   "metadata": {},
   "outputs": [],
   "source": [
    "# Model files if they exist\n",
    "import os, torch\n",
    "from models import XformerScratch as Xformer\n",
    "\n",
    "model_path = './shakespeare_model.pt'\n",
    "    \n",
    "# Data files\n",
    "with open('./data/shakespeare/input.txt', 'r', encoding='utf-8') as file:\n",
    "    text_data = file.read()\n",
    "\n",
    "vocab = sorted(set(list(text_data)))\n",
    "n_vocab = len(vocab)\n",
    "print(f\"vocab: {vocab}\")\n",
    "print(f\"vocab length: {n_vocab}\")"
   ]
  },
  {
   "cell_type": "code",
   "execution_count": null,
   "metadata": {},
   "outputs": [],
   "source": [
    "stoi = {s: i for i,s in enumerate(vocab)}\n",
    "itos = {i:s for s,i in stoi.items()}\n",
    "# print(stoi)\n",
    "# print(itos)\n",
    "def encode(text):\n",
    "    tokens = torch.tensor([stoi[t] for t in text])\n",
    "    return tokens\n",
    "\n",
    "def decode(tokens):\n",
    "    text = ''.join(itos[t] for t in tokens)\n",
    "    return text\n",
    "\n",
    "encoded_data = encode(text_data)\n",
    "data = encoded_data.clone().detach()\n",
    "n1 = int(0.9*len(text_data))\n",
    "train_data = data[:n1]\n",
    "val_data = data[n1:]\n",
    "dataset = {'train': train_data, 'val': val_data}\n",
    "\n",
    "\n",
    "# tokens = encode('Hello world!')\n",
    "# print(decode(tokens))\n",
    "# print(data[0:100])"
   ]
  },
  {
   "cell_type": "code",
   "execution_count": null,
   "metadata": {},
   "outputs": [],
   "source": [
    "from utils import get_batch\n",
    "xtr, ytr = get_batch(dataset['train'], device, block_size, batch_size)\n",
    "xtr.shape, ytr.shape"
   ]
  },
  {
   "cell_type": "code",
   "execution_count": null,
   "metadata": {},
   "outputs": [],
   "source": [
    "# ##TODO: Replace this class with just a function to get the next item\n",
    "# from torch.utils.data import Dataset\n",
    "# import torch\n",
    "\n",
    "# class CharacterDataset(Dataset):\n",
    "#     def __init__(self, dataset: Dataset, block_size: int=128, batch_size: int=64):\n",
    "#         self.block_size = block_size\n",
    "#         self.dataset = dataset\n",
    "#         self.batch_size = batch_size\n",
    "        \n",
    "#     def __len__(self) -> int:\n",
    "#         return len(self.dataset)\n",
    "\n",
    "#     def __getitem__(self,idx) -> tuple[torch.tensor, torch.tensor]:\n",
    "#         idx = torch.randint(len(self.dataset) - self.block_size, (self.batch_size,))\n",
    "#         x = torch.stack([self.dataset[i:i+self.block_size] for i in idx])\n",
    "#         y = torch.stack([self.dataset[i+1:i+self.block_size+1] for i in idx])\n",
    "#         return x.to(device), y.to(device)"
   ]
  },
  {
   "cell_type": "code",
   "execution_count": null,
   "metadata": {},
   "outputs": [],
   "source": [
    "# ## Initialize train and val CharacterDataset\n",
    "# train_ds = CharacterDataset(train_data,block_size=block_size,batch_size=batch_size)\n",
    "# val_ds = CharacterDataset(val_data,block_size=block_size,batch_size=batch_size)\n",
    "\n",
    "## Check data sampling by data loader\n",
    "# x_toks, y_toks = next(iter(train_ds))\n",
    "x_toks, y_toks = get_batch(dataset['train'], device, block_size, batch_size)\n",
    "txt = [''.join(decode(t)) for t in x_toks.tolist()]\n",
    "for row in txt:\n",
    "    print(row)\n",
    "    print('================')"
   ]
  },
  {
   "cell_type": "code",
   "execution_count": null,
   "metadata": {},
   "outputs": [],
   "source": [
    "from models import Xformer_Scratch as Xformer\n",
    "# Model initialization from scratch or checkpoint\n",
    "if os.path.exists(model_path):\n",
    "    # Save the model\n",
    "    model = Xformer(emb_dim, n_vocab, num_heads, num_layers, block_size, dropout).to(device)\n",
    "    model.load_state_dict(torch.load(model_path, map_location=device))\n",
    "    print(f\"Model loaded from checkpoint: {model_path}\")\n",
    "else:\n",
    "    print(\"Model does not exist.\")"
   ]
  },
  {
   "cell_type": "code",
   "execution_count": null,
   "metadata": {},
   "outputs": [],
   "source": [
    "# Estimate loss at initialization and check nothing breaks when data run through the model\n",
    "from utils import get_batch\n",
    "\n",
    "# xb, yb = next(iter(train_ds))\n",
    "# xb, yb = get_batch(dataset['train'], device,block_size, batch_size)\n",
    "# print(xb.shape, yb.shape)\n",
    "# model = Xformer(emb_dim, n_vocab, num_heads, num_layers, dropout).to(device)\n",
    "xb, yb = get_batch(dataset['train'], device, block_size, batch_size)\n",
    "# model = Xformer(emb_dim, n_vocab, num_heads, num_layers, block_size, dropout).to(device)\n",
    "\n",
    "logits, loss = model(xb,yb)\n",
    "print('loss at initialization: ',round(loss.item(),4))"
   ]
  },
  {
   "cell_type": "code",
   "execution_count": null,
   "metadata": {},
   "outputs": [],
   "source": [
    "from utils import get_model_size\n",
    "print('Number of parameters in the model: ', get_model_size(model))"
   ]
  },
  {
   "cell_type": "code",
   "execution_count": null,
   "metadata": {},
   "outputs": [],
   "source": [
    "# # ## Optimal lr sweep\n",
    "# from torch.optim import Adam\n",
    "# from utils import get_lr_loss\n",
    "# num_epochs = 100\n",
    "# lr = 0\n",
    "# optimizer = Adam(model.parameters(), lr=lr)\n",
    "# lri, lossi =  get_lr_loss(model, optimizer, dataset['train'], num_epochs, device, block_size, batch_size, -5, -3)\n",
    "# import matplotlib.pyplot as plt\n",
    "# plt.plot(lri, lossi)\n",
    "# # Add labels to the x-axis and y-axis\n",
    "# plt.xlabel('LR (Learning Rate)')\n",
    "# plt.ylabel('Loss')"
   ]
  },
  {
   "cell_type": "code",
   "execution_count": null,
   "metadata": {},
   "outputs": [],
   "source": [
    "tr_loss = []\n",
    "vl_loss = []"
   ]
  },
  {
   "cell_type": "code",
   "execution_count": null,
   "metadata": {},
   "outputs": [],
   "source": [
    "# xb, yb = next(iter(train_dataloader))\n",
    "# print(xb)\n",
    "# xb, yb = next(iter(train_dataloader))\n",
    "# print(xb)\n",
    "# xb, yb = next(iter(val_dataloader))\n",
    "# print(xb)\n",
    "# xb, yb = next(iter(val_dataloader))\n",
    "# print(xb)"
   ]
  },
  {
   "cell_type": "code",
   "execution_count": null,
   "metadata": {},
   "outputs": [],
   "source": [
    "# from utils import evaluate_loss_char_ds\n",
    "from utils import estimate_loss\n",
    "from torch.optim import Adam\n",
    "lr = 1e-4\n",
    "optimizer = Adam(model.parameters(), lr=lr)\n",
    "for step in range(1000):\n",
    "    # sample a batch of data\n",
    "    xb, yb = get_batch(dataset['train'], device, block_size, batch_size)\n",
    "    # xb, yb = next(iter(train_ds))\n",
    "    # xb = xb.to(device)\n",
    "    # yb = yb.to(device)\n",
    "    # get_batch(dataset['train'], device, block_size, batch_size)\n",
    "    logits, loss = model(xb,yb)\n",
    "    optimizer.zero_grad(set_to_none=True)\n",
    "    loss.backward()\n",
    "    optimizer.step()\n",
    "    # tr_lossi, te_lossi = evaluate_loss_char_ds(model, train_ds, val_ds, num_batches=1)\n",
    "    losses = estimate_loss(model, block_size, batch_size, train_data, val_data, device, eval_iters)\n",
    "    # print(f\"step {step}: train loss {losses['train']:.4f}, val loss {losses['val']:.4f}\")\n",
    "    tr_loss.append(losses['train'])\n",
    "    vl_loss.append(losses['val'])\n",
    "    # print(loss.item())\n",
    "    # print(steps,':', 'tr_loss: ', tr_lossi, 'te_loss: ', te_lossi, 'single shot loss:', loss.item())\n",
    "\n",
    "    if step % eval_interval == 0:\n",
    "        print(step,' --> tr_loss: ', tr_loss[-1].item(), 'te_loss: ', vl_loss[-1].item(), 'single shot loss:', loss.item())"
   ]
  },
  {
   "cell_type": "code",
   "execution_count": null,
   "metadata": {},
   "outputs": [],
   "source": [
    "## Plot loss \n",
    "import matplotlib.pyplot as plt\n",
    "\n",
    "plt.figure()\n",
    "plt.plot(tr_loss, label='Training Loss')\n",
    "# plt.figure()\n",
    "plt.plot(vl_loss, label='Validation Loss')\n",
    "plt.legend()\n",
    "plt.show()\n",
    "print('training loss: ', round(torch.mean(torch.tensor(tr_loss[-10:])).item(),4)), \n",
    "print('validation loss: ', round((torch.mean(torch.tensor(vl_loss[-10:]))).item(),4))"
   ]
  },
  {
   "cell_type": "code",
   "execution_count": null,
   "metadata": {},
   "outputs": [],
   "source": [
    "import torch.nn.functional as F\n",
    "@torch.no_grad()\n",
    "def generate(model, max_new_tokens=block_size, batch_size=batch_size, temperature=temperature):\n",
    "    idx = torch.zeros((batch_size, 1), dtype=torch.long).to(device)\n",
    "    for _ in range(max_new_tokens):\n",
    "        # print('idx shape:',idx.shape)\n",
    "        idx_cond = idx if idx.size(1) <= block_size else idx[:, -block_size:]\n",
    "        idx_cond = idx_cond.to(device)\n",
    "        logits, _ = model(idx_cond)\n",
    "        # Pick only the logits from most recent time step. Karpathy also does a divide by temp?\n",
    "        # This is just Platt scaling which makes the various Softmax curves closes adding more randomness\n",
    "        # see scratch.ipynb. https://en.wikipedia.org/wiki/Platt_scaling\n",
    "        logits = logits[:,-1,:]/temperature\n",
    "        probs = F.softmax(logits, dim=-1)\n",
    "        # print('prob dist:',probs)\n",
    "        idx_next = torch.multinomial(probs, num_samples=1)\n",
    "        # print('idx_next shape:',idx_next.shape)\n",
    "        idx = torch.cat((idx, idx_next), dim=1)\n",
    "    return idx\n"
   ]
  },
  {
   "cell_type": "code",
   "execution_count": null,
   "metadata": {},
   "outputs": [],
   "source": [
    "X_samp = generate(model, block_size, 1, temperature).tolist()"
   ]
  },
  {
   "cell_type": "code",
   "execution_count": null,
   "metadata": {},
   "outputs": [],
   "source": [
    "for row in X_samp:\n",
    "    print(decode(row))"
   ]
  },
  {
   "cell_type": "code",
   "execution_count": null,
   "metadata": {},
   "outputs": [],
   "source": [
    "model_path = \"shakespeare_model.pt\"\n",
    "\n",
    "# Save the model\n",
    "torch.save(model.state_dict(), model_path)"
   ]
  },
  {
   "cell_type": "code",
   "execution_count": null,
   "metadata": {},
   "outputs": [],
   "source": []
  }
 ],
 "metadata": {
  "kernelspec": {
   "display_name": "Python 3",
   "language": "python",
   "name": "python3"
  },
  "language_info": {
   "codemirror_mode": {
    "name": "ipython",
    "version": 3
   },
   "file_extension": ".py",
   "mimetype": "text/x-python",
   "name": "python",
   "nbconvert_exporter": "python",
   "pygments_lexer": "ipython3",
   "version": "3.11.8"
  }
 },
 "nbformat": 4,
 "nbformat_minor": 2
}
