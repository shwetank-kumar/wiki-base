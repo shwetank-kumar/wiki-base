{
 "cells": [
  {
   "cell_type": "code",
   "execution_count": 28,
   "metadata": {},
   "outputs": [
    {
     "data": {
      "text/plain": [
       "<torch._C.Generator at 0x1088c6dd0>"
      ]
     },
     "execution_count": 28,
     "metadata": {},
     "output_type": "execute_result"
    }
   ],
   "source": [
    "import torch\n",
    "import torch.nn as nn\n",
    "import torch.nn.functional as F\n",
    "device = \"cuda\" if torch.cuda.is_available() else \"cpu\"\n",
    "\n",
    "torch.manual_seed(0)"
   ]
  },
  {
   "cell_type": "code",
   "execution_count": 29,
   "metadata": {},
   "outputs": [
    {
     "name": "stdout",
     "output_type": "stream",
     "text": [
      "tensor([[[ 1.6459, -1.3602,  0.3446,  0.5199, -2.6133, -1.6965, -0.2282,\n",
      "           0.2800],\n",
      "         [ 0.7468, -0.4366,  0.3403,  0.4778, -0.6401, -1.1623,  0.4206,\n",
      "          -0.4956],\n",
      "         [ 0.5709, -0.5320,  0.3018,  0.4265, -0.3018, -0.9713,  0.3593,\n",
      "          -0.5299]],\n",
      "\n",
      "        [[-0.6227, -0.4637,  1.9218, -0.4025,  0.1239,  1.1648,  0.9234,\n",
      "           1.3873],\n",
      "         [-0.7674, -0.4389,  0.4084,  0.1348,  0.3939,  0.7774,  1.4936,\n",
      "           0.0272],\n",
      "         [-0.5494, -0.3152,  0.7227, -0.3916,  0.1765,  0.4862,  0.8529,\n",
      "           0.5774]]])\n",
      "torch.Size([2, 3, 8])\n"
     ]
    }
   ],
   "source": [
    "# Example Usage:\n",
    "query, key, value = torch.randn(2, 3, 8, device=device), torch.randn(2, 3, 8, device=device), torch.randn(2, 3, 8, device=device)\n",
    "sdpa = F.scaled_dot_product_attention(query, key, value, attn_mask=None, is_causal=True)\n",
    "print(sdpa)\n",
    "print(sdpa.shape)"
   ]
  },
  {
   "cell_type": "code",
   "execution_count": 30,
   "metadata": {},
   "outputs": [],
   "source": [
    "T = 3\n",
    "C = 8\n",
    "wei = key @ torch.transpose(query, 1, 2) * C**-0.5"
   ]
  },
  {
   "cell_type": "code",
   "execution_count": 31,
   "metadata": {},
   "outputs": [
    {
     "name": "stdout",
     "output_type": "stream",
     "text": [
      "tensor([[[ 1.6459e+00, -1.3602e+00,  3.4457e-01,  5.1987e-01, -2.6133e+00,\n",
      "          -1.6965e+00, -2.2824e-01,  2.7995e-01],\n",
      "         [ 4.6779e-01, -1.5000e-01,  3.3904e-01,  4.6474e-01, -2.7793e-02,\n",
      "          -9.9659e-01,  6.2192e-01, -7.3627e-01],\n",
      "         [ 5.0428e-01, -5.2094e-01,  2.9363e-01,  4.1442e-01, -1.6549e-01,\n",
      "          -9.1369e-01,  3.6823e-01, -5.6291e-01]],\n",
      "\n",
      "        [[-6.2270e-01, -4.6372e-01,  1.9218e+00, -4.0255e-01,  1.2390e-01,\n",
      "           1.1648e+00,  9.2337e-01,  1.3873e+00],\n",
      "         [-7.7026e-01, -4.3836e-01,  3.7838e-01,  1.4548e-01,  3.9927e-01,\n",
      "           7.6974e-01,  1.5049e+00,  2.4284e-04],\n",
      "         [-6.4220e-01, -2.7767e-01, -5.1086e-01, -9.0786e-03,  3.7495e-01,\n",
      "           1.2069e-01,  1.2478e+00, -4.9542e-01]]])\n",
      "torch.Size([2, 3, 8])\n"
     ]
    }
   ],
   "source": [
    "tril = torch.tril(torch.ones(C,C))\n",
    "wei = torch.masked_fill(wei, tril[:T,:T] == 0, float('-Inf')) \n",
    "wei = F.softmax(wei, dim=-1)\n",
    "out = wei @ value\n",
    "print(out)\n",
    "print(out.shape)"
   ]
  },
  {
   "cell_type": "code",
   "execution_count": 32,
   "metadata": {},
   "outputs": [
    {
     "data": {
      "text/plain": [
       "tensor([[[1.0000, 0.0000, 0.0000],\n",
       "         [0.1579, 0.8421, 0.0000],\n",
       "         [0.2211, 0.6674, 0.1115]],\n",
       "\n",
       "        [[1.0000, 0.0000, 0.0000],\n",
       "         [0.4339, 0.5661, 0.0000],\n",
       "         [0.0868, 0.6420, 0.2711]]])"
      ]
     },
     "execution_count": 32,
     "metadata": {},
     "output_type": "execute_result"
    }
   ],
   "source": [
    "wei"
   ]
  },
  {
   "cell_type": "code",
   "execution_count": null,
   "metadata": {},
   "outputs": [],
   "source": []
  }
 ],
 "metadata": {
  "kernelspec": {
   "display_name": "Python 3",
   "language": "python",
   "name": "python3"
  },
  "language_info": {
   "codemirror_mode": {
    "name": "ipython",
    "version": 3
   },
   "file_extension": ".py",
   "mimetype": "text/x-python",
   "name": "python",
   "nbconvert_exporter": "python",
   "pygments_lexer": "ipython3",
   "version": "3.11.8"
  }
 },
 "nbformat": 4,
 "nbformat_minor": 2
}
