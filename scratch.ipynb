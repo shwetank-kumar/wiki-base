{
 "cells": [
  {
   "cell_type": "code",
   "execution_count": null,
   "metadata": {},
   "outputs": [],
   "source": [
<<<<<<< HEAD
    "# Wiki 2\n",
    "with open('./data/wiki2/train.txt', 'r') as f:\n",
    "    wiki2train = f.read()\n",
    "\n",
    "with open('./data/wiki2/test.txt', 'r') as f:\n",
    "    wiki2test = f.read()"
=======
    "from datasets import load_dataset\n",
    "dataset = load_dataset(\"wikitext\", \"wikitext-103-raw-v1\")"
>>>>>>> 30b3a90 (stashing)
   ]
  },
  {
   "cell_type": "code",
   "execution_count": null,
   "metadata": {},
   "outputs": [],
   "source": [
<<<<<<< HEAD
    "train_chars = sorted(set(list(wiki2train)))\n",
    "print(train_chars)\n",
    "print(len(train_chars))"
=======
    "def preprocess_dataset(dataset):\n",
    "    dataset_string = ' '.join(dataset['text'])\n",
    "    return dataset_string"
>>>>>>> 30b3a90 (stashing)
   ]
  },
  {
   "cell_type": "code",
   "execution_count": null,
   "metadata": {},
   "outputs": [],
   "source": [
<<<<<<< HEAD
    "test_chars = sorted(set(list(wiki2test)))\n",
    "print(test_chars)\n",
    "print(len(test_chars))"
=======
    "train_data = preprocess_dataset(dataset['train'])\n",
    "val_data = preprocess_dataset(dataset['validation'])\n",
    "test_data = preprocess_dataset(dataset['test'])"
>>>>>>> 30b3a90 (stashing)
   ]
  },
  {
   "cell_type": "code",
   "execution_count": null,
   "metadata": {},
   "outputs": [],
   "source": [
<<<<<<< HEAD
    "print(set(train_chars)-set(test_chars))"
=======
    "print(train_data[0:1000])"
>>>>>>> 30b3a90 (stashing)
   ]
  },
  {
   "cell_type": "code",
   "execution_count": null,
   "metadata": {},
   "outputs": [],
   "source": [
<<<<<<< HEAD
    "from datasets import load_dataset\n",
    "dataset = load_dataset(\"wikitext\", \"wikitext-103-raw-v1\")"
=======
    "print(val_data[0:1000])"
>>>>>>> 30b3a90 (stashing)
   ]
  },
  {
   "cell_type": "code",
   "execution_count": null,
   "metadata": {},
   "outputs": [],
   "source": [
<<<<<<< HEAD
    "train_chars = ' '.join(dataset['train']['text'])\n",
    "test_chars = ' '.join(dataset['test']['text'])"
=======
    "text_data = \"\"\"First Citizen:\n",
    "Before we proceed any further, hear me speak.\n",
    "\n",
    "All:\n",
    "Speak, speak.\n",
    "\n",
    "First Citizen:\n",
    "You are all resolved rather to die than to famish?\n",
    "\n",
    "All:\n",
    "Resolved. resolved.\n",
    "\n",
    "First Citizen:\n",
    "First, you know Caius Marcius is chief enemy to the people.\n",
    "\n",
    "All:\n",
    "We know't, we know't.\n",
    "\n",
    "First Citizen:\n",
    "Let us kill him, and we'll have corn at our own price.\n",
    "Is't a verdict?\n",
    "\n",
    "All:\n",
    "No more talking on't; let it be done: away, away!\n",
    "\n",
    "Second Citizen:\n",
    "One word, good citizens.\"\"\""
>>>>>>> 30b3a90 (stashing)
   ]
  },
  {
   "cell_type": "code",
   "execution_count": null,
   "metadata": {},
   "outputs": [],
   "source": [
<<<<<<< HEAD
    "train_chars = sorted(set(list(train_chars)))\n",
    "print(train_chars)\n",
    "print(len(train_chars))"
=======
    "words = text_data.splitlines()\n",
    "words = [w.strip() for w in words]\n",
    "words = [w for w in words if w] \n",
    "print(words)"
>>>>>>> 30b3a90 (stashing)
   ]
  },
  {
   "cell_type": "code",
   "execution_count": null,
   "metadata": {},
   "outputs": [],
<<<<<<< HEAD
   "source": [
    "test_chars = sorted(set(list(test_chars)))\n",
    "print(test_chars)\n",
    "print(len(test_chars))"
   ]
=======
   "source": []
>>>>>>> 30b3a90 (stashing)
  }
 ],
 "metadata": {
  "kernelspec": {
   "display_name": "Python 3",
   "language": "python",
   "name": "python3"
  },
  "language_info": {
   "codemirror_mode": {
    "name": "ipython",
    "version": 3
   },
   "file_extension": ".py",
   "mimetype": "text/x-python",
   "name": "python",
   "nbconvert_exporter": "python",
   "pygments_lexer": "ipython3",
   "version": "3.10.13"
  }
 },
 "nbformat": 4,
 "nbformat_minor": 2
}
