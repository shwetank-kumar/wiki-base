{
 "cells": [
  {
   "cell_type": "code",
   "execution_count": 1,
   "metadata": {},
   "outputs": [
    {
     "data": {
      "text/plain": [
       "device(type='cuda')"
      ]
     },
     "execution_count": 1,
     "metadata": {},
     "output_type": "execute_result"
    }
   ],
   "source": [
    "%load_ext autoreload\n",
    "%autoreload 2\n",
    "import sys\n",
    "sys.path.append('/Users/shwetank/code/wiki-base')\n",
    "import torch\n",
    "# from datasets import load_dataset\n",
    "# import tiktoken\n",
    "\n",
    "# Setup device\n",
    "device = torch.device(\"cuda\")\n",
    "device"
   ]
  },
  {
   "cell_type": "code",
   "execution_count": 2,
   "metadata": {},
   "outputs": [],
   "source": [
    "# Hyperparams\n",
    "batch_size = 32\n",
    "block_size = 256\n",
    "emb_dim = 768\n",
    "num_heads = 12\n",
    "num_layers = 12\n",
    "dropout = 0.2\n",
    "linear_scaleup = 4\n",
    "temperature = 1\n",
    "\n",
    "# Optimization loop parameters\n",
    "n_epochs = 100\n",
    "eval_interval =10"
   ]
  },
  {
   "cell_type": "code",
   "execution_count": 3,
   "metadata": {},
   "outputs": [
    {
     "name": "stdout",
     "output_type": "stream",
     "text": [
      "vocab: ['\\n', ' ', '!', '$', '&', \"'\", ',', '-', '.', '3', ':', ';', '?', 'A', 'B', 'C', 'D', 'E', 'F', 'G', 'H', 'I', 'J', 'K', 'L', 'M', 'N', 'O', 'P', 'Q', 'R', 'S', 'T', 'U', 'V', 'W', 'X', 'Y', 'Z', 'a', 'b', 'c', 'd', 'e', 'f', 'g', 'h', 'i', 'j', 'k', 'l', 'm', 'n', 'o', 'p', 'q', 'r', 's', 't', 'u', 'v', 'w', 'x', 'y', 'z']\n",
      "vocab length: 65\n"
     ]
    }
   ],
   "source": [
    "with open('./data/shakespeare/input.txt', 'r', encoding='utf-8') as file:\n",
    "    text_data = file.read()\n",
    "\n",
    "n1 = int(0.9*len(text_data))\n",
    "train_data = text_data[:n1]\n",
    "val_data = text_data[n1:]\n",
    "vocab = sorted(set(list(text_data)))\n",
    "n_vocab = len(vocab)\n",
    "print(f\"vocab: {vocab}\")\n",
    "print(f\"vocab length: {n_vocab}\")"
   ]
  },
  {
   "cell_type": "code",
   "execution_count": 4,
   "metadata": {},
   "outputs": [],
   "source": [
    "from torch.utils.data import Dataset\n",
    "import torch\n",
    "\n",
    "class CharacterDataset(Dataset):\n",
    "    def __init__(self, dataset: Dataset, block_size: int=128):\n",
    "        self.block_size = block_size\n",
    "        self.dataset = dataset\n",
    "        \n",
    "    def __len__(self) -> int:\n",
    "        return self.block_size\n",
    "\n",
    "    def __getitem__(self, idx: int) -> tuple[torch.tensor, torch.tensor]:\n",
    "        # x = torch.zeros((self.block_size + 1), dtype=torch.long)\n",
    "        # y = torch.zeros((self.block_size + 1), dtype=torch.long)\n",
    "        # print(idx)\n",
    "        x = self.dataset[idx:idx+self.block_size]\n",
    "        y = self.dataset[idx+1:idx+self.block_size+1]\n",
    "        return x.to(device), y.to(device)"
   ]
  },
  {
   "cell_type": "code",
   "execution_count": 5,
   "metadata": {},
   "outputs": [],
   "source": [
    "stoi = {s: i for i,s in enumerate(vocab)}\n",
    "itos = {i:s for s,i in stoi.items()}\n",
    "# print(stoi)\n",
    "# print(itos)\n",
    "def encode(text):\n",
    "    tokens = torch.tensor([stoi[t] for t in text])\n",
    "    return tokens\n",
    "\n",
    "def decode(tokens):\n",
    "    text = ''.join(itos[t] for t in tokens)\n",
    "    return text\n",
    "\n",
    "# tokens = encode('Hello world!')\n",
    "# print(decode(tokens))"
   ]
  },
  {
   "cell_type": "code",
   "execution_count": 6,
   "metadata": {},
   "outputs": [],
   "source": [
    "# import torch.nn as nn\n",
    "# import torch.nn.functional as F\n",
    "\n",
    "# class Feedforward(nn.Module):\n",
    "#     def __init__(self,emb_dim,dropout) -> None:\n",
    "#         super().__init__()\n",
    "#         self.ff = nn.Sequential(\n",
    "#             nn.Linear(emb_dim, linear_scaleup * emb_dim),\n",
    "#             nn.ReLU(),\n",
    "#             nn.Linear(linear_scaleup * emb_dim, emb_dim),\n",
    "#             nn.Dropout(dropout)\n",
    "#         )\n",
    "\n",
    "#     def forward(self,x):\n",
    "#         return self.ff(x)\n",
    "    \n",
    "# class MultiHeadAttentionModuleList(nn.Module):\n",
    "#     def __init__(self, head_size, num_heads, emb_dim, dropout):\n",
    "#         super().__init__()\n",
    "#         self.heads = nn.MultiheadAttention(emb_dim, num_heads, dropout, bias=False, batch_first=True)\n",
    "#         self.proj = nn.Linear(emb_dim, emb_dim)\n",
    "#         self.dropout = nn.Dropout(dropout)\n",
    "\n",
    "#     def forward(self, x):\n",
    "#         # x = torch.cat([h(x) for h in self.heads], dim=-1)\n",
    "#         x, _ = self.heads(x,x,x)\n",
    "#         x = self.proj(x)\n",
    "#         x = self.dropout(x)\n",
    "#         return x\n",
    "\n",
    "# class Block(nn.Module):\n",
    "#     def __init__(self, emb_dim, num_heads, dropout) -> None:\n",
    "#         super().__init__()\n",
    "#         self.head_size = emb_dim // num_heads\n",
    "#         # self.sa_head = nn.MultiheadAttention(emb_dim, num_heads, dropout)\n",
    "#         self.sa_head = MultiHeadAttentionModuleList(self.head_size, num_heads, emb_dim, dropout)\n",
    "#         self.ff = Feedforward(emb_dim, dropout)\n",
    "#         self.ln1 = nn.LayerNorm(emb_dim)\n",
    "#         self.ln2 = nn.LayerNorm(emb_dim)\n",
    "\n",
    "#     def forward(self, x, targets=None):\n",
    "#         x = self.ln1(x)\n",
    "#         sa_out = self.sa_head(x)\n",
    "#         x = x + sa_out\n",
    "#         x = x + self.ff(self.ln2(x))\n",
    "#         return x\n",
    "\n",
    "\n",
    "# class Xformer(nn.Module):\n",
    "#     def __init__(self, emb_dim, n_vocab, num_heads, num_layers, dropout): \n",
    "#         super().__init__()\n",
    "#         self.tok_emb = nn.Embedding(n_vocab, emb_dim)\n",
    "#         self.pos_emb = nn.Embedding(n_vocab, emb_dim)\n",
    "       \n",
    "#         blocks = []\n",
    "#         for _ in range(num_layers):\n",
    "#             blocks.append(Block(emb_dim, num_heads, dropout))\n",
    "        \n",
    "#         self.blocks = nn.Sequential(*blocks, nn.LayerNorm(emb_dim))\n",
    "#         self.lm_head = nn.Linear(emb_dim, n_vocab)\n",
    "\n",
    "#     def forward(self, x, targets=None):\n",
    "#         x = self.tok_emb(x) + self.pos_emb(x)\n",
    "#         x = self.blocks(x)\n",
    "#         logits = self.lm_head(x)\n",
    "\n",
    "#         loss = None\n",
    "#         if targets is not None:\n",
    "#             # print(logits.view(-1, logits.size(-1)).shape, targets.view(-1).shape)\n",
    "#             loss = F.cross_entropy(logits.view(-1, logits.size(-1)), targets.view(-1), ignore_index=-1)\n",
    "\n",
    "#         return(logits,loss)\n",
    "\n",
    "# import torch\n",
    "# import torch.nn as nn\n",
    "# import torch.nn.functional as F\n",
    "\n",
    "# class Feedforward(nn.Module):\n",
    "#     def __init__(self, emb_dim, dropout):\n",
    "#         super().__init__()\n",
    "#         self.ff = nn.Sequential(\n",
    "#             nn.Linear(emb_dim, 4*emb_dim),\n",
    "#             nn.ReLU(),\n",
    "#             nn.Linear(4*emb_dim, emb_dim),\n",
    "#             nn.Dropout(dropout)\n",
    "#         )\n",
    "\n",
    "#     def forward(self,x):\n",
    "#         return self.ff(x)\n",
    "\n",
    "# class Block(nn.Module):\n",
    "#     def __init__(self, emb_dim, num_heads, block_length, dropout):\n",
    "#         super().__init__()\n",
    "#         self.sa_head = nn.MultiheadAttention(emb_dim, num_heads, dropout=dropout)\n",
    "#         self.ff = Feedforward(emb_dim, dropout)\n",
    "#         self.ln1 = nn.LayerNorm(emb_dim)\n",
    "#         self.ln2 = nn.LayerNorm(emb_dim)\n",
    "\n",
    "#     def forward(self, x, targets=None):\n",
    "#         sa_out, _ = self.sa_head(self.ln1(x), self.ln1(x), self.ln1(x)) #B, T, emb_dim\n",
    "#         # print(x.shape)\n",
    "#         x = x + sa_out #B, T, emb_dim\n",
    "#         x = x + self.ff(self.ln2(x)) #B, T, emb_dim\n",
    "#         return x\n",
    "\n",
    "# class Xformer(nn.Module):\n",
    "#     def __init__(self, emb_dim, vocab_size, num_heads, num_layers, block_length, dropout):\n",
    "#         super().__init__()\n",
    "#         self.token_embedding = nn.Embedding(vocab_size + 1, emb_dim)\n",
    "#         self.pos_embedding = nn.Embedding(block_length, emb_dim)\n",
    "        \n",
    "#         self.blocks = nn.ModuleList([Block(emb_dim, num_heads, block_length, dropout) for _ in range(num_layers)])\n",
    "#         self.lm_head = nn.Linear(emb_dim, vocab_size)\n",
    "\n",
    "#     def forward(self, x, targets=None):\n",
    "#         tok_emb = self.token_embedding(x)\n",
    "#         pos = torch.arange(x.size(1), device=x.device).unsqueeze(0)\n",
    "#         pos_emb = self.pos_embedding(pos)\n",
    "#         x = tok_emb + pos_emb\n",
    "        \n",
    "#         for block in self.blocks:\n",
    "#             x = block(x)\n",
    "        \n",
    "#         logits = self.lm_head(x)\n",
    "\n",
    "#         loss = None\n",
    "#         if targets is not None:\n",
    "#             loss = F.cross_entropy(logits.view(-1, logits.size(-1)), targets.view(-1), ignore_index=-1)\n",
    "\n",
    "#         return logits, loss\n",
    "\n",
    "\n",
    "from models import Xformer_Scratch as Xformer"
   ]
  },
  {
   "cell_type": "code",
   "execution_count": 7,
   "metadata": {},
   "outputs": [],
   "source": [
    "## Get dataloader for train and  val datasets from training and test data\n",
    "# from torch.utils.data import DataLoader\n",
    "# train_data_obj = WikiData(train_tensor, block_size=block_size)\n",
    "# val_data_obj = WikiData(val_tensor, block_size=block_size)\n",
    "# train_dataloader = DataLoader(train_data_obj, batch_size=1)\n",
    "# val_dataloader = DataLoader(val_data_obj, batch_size=1)\n",
    "from torch.utils.data import DataLoader\n",
    "train_dataloader = DataLoader(CharacterDataset(encode(train_data),block_size=block_size),batch_size=batch_size)\n",
    "val_dataloader = DataLoader(CharacterDataset(encode(val_data),block_size=block_size), batch_size=batch_size)"
   ]
  },
  {
   "cell_type": "code",
   "execution_count": 8,
   "metadata": {},
   "outputs": [
    {
     "name": "stdout",
     "output_type": "stream",
     "text": [
      "tensor(4.3578, device='cuda:0', grad_fn=<NllLossBackward0>)\n"
     ]
    }
   ],
   "source": [
    "# Single test run\n",
    "from torch.optim import Adam\n",
    "xb, yb = next(iter(train_dataloader))\n",
    "# print(xb.shape, yb.shape)\n",
    "# model = Xformer(emb_dim, n_vocab, num_heads, num_layers, dropout).to(device)\n",
    "model = Xformer(emb_dim, n_vocab, num_heads, num_layers, block_size, dropout).to(device)\n",
    "\n",
    "logits, loss = model(xb,yb)\n",
    "print(loss)"
   ]
  },
  {
   "cell_type": "code",
   "execution_count": 9,
   "metadata": {},
   "outputs": [
    {
     "data": {
      "text/plain": [
       "85179713"
      ]
     },
     "execution_count": 9,
     "metadata": {},
     "output_type": "execute_result"
    }
   ],
   "source": [
    "from utils import get_model_size\n",
    "get_model_size(model)"
   ]
  },
  {
   "cell_type": "code",
   "execution_count": 10,
   "metadata": {},
   "outputs": [
    {
     "name": "stdout",
     "output_type": "stream",
     "text": [
      "torch.Size([32, 256]) torch.Size([32, 256])\n"
     ]
    }
   ],
   "source": [
    "xb, yb = next(iter(train_dataloader))\n",
    "print(xb.shape, yb.shape)"
   ]
  },
  {
   "cell_type": "code",
   "execution_count": 11,
   "metadata": {},
   "outputs": [],
   "source": [
    "# ## Optimal lr sweep\n",
    "# from utils import get_lr_loss\n",
    "# num_epochs = 100\n",
    "# lr = 0\n",
    "# optimizer = Adam(model.parameters(), lr=lr)\n",
    "# lri, lossi =  get_lr_loss(model, optimizer, train_dataloader, num_epochs, device, -5, -3)\n",
    "# import matplotlib.pyplot as plt\n",
    "# plt.plot(lri, lossi)\n",
    "# # Add labels to the x-axis and y-axis\n",
    "# plt.xlabel('LR (Learning Rate)')\n",
    "# plt.ylabel('Loss')"
   ]
  },
  {
   "cell_type": "code",
   "execution_count": 12,
   "metadata": {},
   "outputs": [],
   "source": [
    "tr_loss = []\n",
    "vl_loss = []"
   ]
  },
  {
   "cell_type": "code",
   "execution_count": 24,
   "metadata": {},
   "outputs": [],
   "source": [
    "@torch.inference_mode()\n",
    "def evaluate_loss(model, tr_loader, te_loader, device, num_batches = 10):\n",
    "    model.eval()\n",
    "    loss_tr = []\n",
    "    loss_te = []\n",
    "    for n in range(num_batches):\n",
    "        Xtr, Ytr = next(iter(tr_loader))\n",
    "        Xte, Yte = next(iter(te_loader))\n",
    "        Xtr = Xtr.to(device)\n",
    "        Ytr = Ytr.to(device)\n",
    "        Xte = Xte.to(device)\n",
    "        Yte = Yte.to(device)\n",
    "        _, train_loss = model(Xtr, Ytr)\n",
    "        _, test_loss = model(Xte, Yte)\n",
    "        print(train_loss.item(), test_loss.item())\n",
    "        loss_tr.append(train_loss)\n",
    "        loss_te.append(test_loss)\n",
    "    \n",
    "    mean_train_loss = torch.tensor(loss_tr).mean().item()\n",
    "    mean_test_loss = torch.tensor(loss_te).mean().item()\n",
    "    model.train()\n",
    "    return(mean_train_loss, mean_test_loss)"
   ]
  },
  {
   "cell_type": "code",
   "execution_count": 26,
   "metadata": {},
   "outputs": [
    {
     "name": "stdout",
     "output_type": "stream",
     "text": [
      "tensor([[18, 47, 56,  ..., 50, 10,  0],\n",
      "        [47, 56, 57,  ..., 10,  0, 35],\n",
      "        [56, 57, 58,  ...,  0, 35, 43],\n",
      "        ...,\n",
      "        [43, 43, 42,  ..., 57, 58,  1],\n",
      "        [43, 42,  1,  ..., 58,  1, 15],\n",
      "        [42,  1, 39,  ...,  1, 15, 47]], device='cuda:0')\n"
     ]
    }
   ],
   "source": [
    "xb, yb = next(iter(train_dataloader))\n",
    "print(xb)"
   ]
  },
  {
   "cell_type": "code",
   "execution_count": 27,
   "metadata": {},
   "outputs": [
    {
     "name": "stdout",
     "output_type": "stream",
     "text": [
      "tensor([[18, 47, 56,  ..., 50, 10,  0],\n",
      "        [47, 56, 57,  ..., 10,  0, 35],\n",
      "        [56, 57, 58,  ...,  0, 35, 43],\n",
      "        ...,\n",
      "        [43, 43, 42,  ..., 57, 58,  1],\n",
      "        [43, 42,  1,  ..., 58,  1, 15],\n",
      "        [42,  1, 39,  ...,  1, 15, 47]], device='cuda:0')\n"
     ]
    }
   ],
   "source": [
    "xb, yb = next(iter(train_dataloader))\n",
    "print(xb)"
   ]
  },
  {
   "cell_type": "code",
   "execution_count": 25,
   "metadata": {},
   "outputs": [
    {
     "name": "stdout",
     "output_type": "stream",
     "text": [
      "1.4227656126022339 4.349139213562012\n",
      "1.4227656126022339 4.349139213562012\n",
      "1.4227656126022339 4.349139213562012\n",
      "1.4227656126022339 4.349139213562012\n",
      "1.4227656126022339 4.349139213562012\n",
      "1.4227656126022339 4.349139213562012\n",
      "1.4227656126022339 4.349139213562012\n",
      "1.4227656126022339 4.349139213562012\n",
      "1.4227656126022339 4.349139213562012\n",
      "1.4227656126022339 4.349139213562012\n",
      "0 : tr_loss:  1.4227656126022339 te_loss:  4.34913969039917 single shot loss: 1.4919102191925049\n"
     ]
    }
   ],
   "source": [
    "# from utils import evaluate_loss\n",
    "lr = 1e-5\n",
    "optimizer = Adam(model.parameters(), lr=lr)\n",
    "for steps in range(1):\n",
    "    xb, yb = next(iter(train_dataloader))\n",
    "    xb = xb.to(device)\n",
    "    yb = yb.to(device)\n",
    "    logits, loss = model(xb,yb)\n",
    "    optimizer.zero_grad(set_to_none=True)\n",
    "    loss.backward()\n",
    "    optimizer.step()\n",
    "    tr_lossi, te_lossi = evaluate_loss(model, train_dataloader, val_dataloader, device, num_batches=10)\n",
    "    tr_loss.append(tr_lossi)\n",
    "    vl_loss.append(te_lossi)\n",
    "    # print(loss.item())\n",
    "    print(steps,':', 'tr_loss: ', tr_lossi, 'te_loss: ', te_lossi, 'single shot loss:', loss.item())\n",
    "\n",
    "    # if steps % eval_interval-1 == 0:\n",
    "    #     print('ltr: ', tr_lossi, 'lte: ', te_lossi, 'single shot loss:', loss.item())"
   ]
  },
  {
   "cell_type": "code",
   "execution_count": 14,
   "metadata": {},
   "outputs": [
    {
     "data": {
      "image/png": "[encoded data removed]",
      "text/plain": [
       "<Figure size 640x480 with 1 Axes>"
      ]
     },
     "metadata": {},
     "output_type": "display_data"
    },
    {
     "name": "stdout",
     "output_type": "stream",
     "text": [
      "training loss:  1.4404\n",
      "validation loss:  4.2706\n"
     ]
    }
   ],
   "source": [
    "## Plot loss \n",
    "import matplotlib.pyplot as plt\n",
    "\n",
    "plt.figure()\n",
    "plt.plot(tr_loss, label='Training Loss')\n",
    "# plt.figure()\n",
    "plt.plot(vl_loss, label='Validation Loss')\n",
    "plt.legend()\n",
    "plt.show()\n",
    "print('training loss: ', round(torch.mean(torch.tensor(tr_loss[-10:])).item(),4)), \n",
    "print('validation loss: ', round((torch.mean(torch.tensor(vl_loss[-10:]))).item(),4))"
   ]
  },
  {
   "cell_type": "code",
   "execution_count": 17,
   "metadata": {},
   "outputs": [],
   "source": [
    "import torch.nn.functional as F\n",
    "@torch.no_grad()\n",
    "def generate(model, max_new_tokens=block_size, batch_size=batch_size, temperature=temperature):\n",
    "    idx = torch.zeros((batch_size, 1), dtype=torch.long).to(device)\n",
    "    for _ in range(max_new_tokens):\n",
    "        # print('idx shape:',idx.shape)\n",
    "        idx_cond = idx if idx.size(1) <= block_size else idx[:, -block_size:]\n",
    "        idx_cond = idx_cond.to(device)\n",
    "        logits, _ = model(idx_cond)\n",
    "        # Pick only the logits from most recent time step. Karpathy also does a divide by temp?\n",
    "        # This is just Platt scaling which makes the various Softmax curves closes adding more randomness\n",
    "        # see scratch.ipynb. https://en.wikipedia.org/wiki/Platt_scaling\n",
    "        logits = logits[:,-1,:]/temperature\n",
    "        probs = F.softmax(logits, dim=-1)\n",
    "        # print('prob dist:',probs)\n",
    "        idx_next = torch.multinomial(probs, num_samples=1)\n",
    "        # print('idx_next shape:',idx_next.shape)\n",
    "        idx = torch.cat((idx, idx_next), dim=1)\n",
    "    return idx\n"
   ]
  },
  {
   "cell_type": "code",
   "execution_count": 18,
   "metadata": {},
   "outputs": [],
   "source": [
    "X_samp = generate(model, block_size*2, 1, temperature).tolist()"
   ]
  },
  {
   "cell_type": "code",
   "execution_count": 19,
   "metadata": {},
   "outputs": [
    {
     "name": "stdout",
     "output_type": "stream",
     "text": [
      "\n",
      "mie nope Wersow theanyor fu theanopl:\n",
      "\n",
      "Wemire Caro e atius re u ther sol s fu wenoleneanourche.\n",
      "\n",
      "WeV, Cak. t.\n",
      "Allve spr tol;hanolve mithemyo th?\n",
      "!, Pen:he Cizemen k.\n",
      "Wenow'theo:\n",
      "WefUedve y amenesto spen faknolved fochen:\n",
      "Fieakn:\n",
      "Fir h?\n",
      "You e myope.\n",
      "FiGe t, pe the Mare tocheG spemed.\n",
      "Firato s pe.\n",
      "All:\n",
      "Al w h?\n",
      "Fir3 k, w'th?\n",
      "FizeFiemit k, Citbar, olven:\n",
      "mien:\n",
      "Bemyow't pe bCizen:\n",
      "Sf r, reou Cak.\n",
      "Fi'tochirAl:\n",
      "\n",
      "Yo Cirenonole wemire t pe towMan:\n",
      "\n",
      "\n",
      "SpearspeZirshe pen:\n",
      "\n",
      "Yo k.\n",
      "Red reow'to facize Mame.\n",
      "Yopr re re en:\n",
      "\n"
     ]
    }
   ],
   "source": [
    "for row in X_samp:\n",
    "    print(decode(row))"
   ]
  },
  {
   "cell_type": "code",
   "execution_count": null,
   "metadata": {},
   "outputs": [],
   "source": []
  },
  {
   "cell_type": "code",
   "execution_count": null,
   "metadata": {},
   "outputs": [],
   "source": []
  }
 ],
 "metadata": {
  "kernelspec": {
   "display_name": "Python 3",
   "language": "python",
   "name": "python3"
  },
  "language_info": {
   "codemirror_mode": {
    "name": "ipython",
    "version": 3
   },
   "file_extension": ".py",
   "mimetype": "text/x-python",
   "name": "python",
   "nbconvert_exporter": "python",
   "pygments_lexer": "ipython3",
   "version": "3.11.8"
  }
 },
 "nbformat": 4,
 "nbformat_minor": 2
}
