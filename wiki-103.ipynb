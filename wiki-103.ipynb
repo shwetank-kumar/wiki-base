{
 "cells": [
  {
   "cell_type": "code",
   "execution_count": 1,
   "metadata": {},
   "outputs": [
    {
     "name": "stderr",
     "output_type": "stream",
     "text": [
      "/Users/shwetank/code/makemore-utils-nbs/makemore/lib/python3.10/site-packages/tqdm/auto.py:21: TqdmWarning: IProgress not found. Please update jupyter and ipywidgets. See https://ipywidgets.readthedocs.io/en/stable/user_install.html\n",
      "  from .autonotebook import tqdm as notebook_tqdm\n"
     ]
    }
   ],
   "source": [
    "from datasets import load_dataset\n",
    "import torch\n",
    "import tiktoken\n",
    "\n",
    "# Setup device\n",
    "device = torch.device(\"mps\") if torch.backends.mps.is_available() else torch.device(\"cpu\")"
   ]
  },
  {
   "cell_type": "code",
   "execution_count": 2,
   "metadata": {},
   "outputs": [],
   "source": [
    "# Hyperparams\n",
    "batch_size = 32\n",
    "block_size = 128\n",
    "emb_dim = 384\n",
    "num_heads = 6\n",
    "num_layers = 4\n",
    "dropout = 0.2\n",
    "linear_scaleup = 4\n",
    "\n",
    "# Optimization loop parameters\n",
    "n_epochs = 100\n",
    "eval_interval =10"
   ]
  },
  {
   "cell_type": "code",
   "execution_count": 3,
   "metadata": {},
   "outputs": [],
   "source": [
    "# Load WikiText-103 dataset\n",
    "dataset = load_dataset(\"wikitext\", \"wikitext-103-raw-v1\")\n",
    "tokenizer = tiktoken.get_encoding(\"cl100k_base\")"
   ]
  },
  {
   "cell_type": "code",
   "execution_count": 4,
   "metadata": {},
   "outputs": [],
   "source": [
    "def preprocess_dataset(dataset, tokenizer, block_length=128):\n",
    "    dataset_string = ' '.join(dataset['text'])\n",
    "    tokenized_dataset = tokenizer.encode(dataset_string)\n",
    "    return tokenized_dataset"
   ]
  },
  {
   "cell_type": "code",
   "execution_count": 5,
   "metadata": {},
   "outputs": [],
   "source": [
    "# train_dataset = preprocess_dataset(dataset['train'],tokenizer)\n",
    "# val_dataset = preprocess_dataset(dataset['validation'],tokenizer)\n",
    "# test_dataset = preprocess_dataset(dataset['test'],tokenizer)\n",
    "# print(len(train_dataset), len(val_dataset), len(test_dataset))"
   ]
  },
  {
   "cell_type": "code",
   "execution_count": 6,
   "metadata": {},
   "outputs": [
    {
     "name": "stdout",
     "output_type": "stream",
     "text": [
      "121361219 255437 292057\n",
      "Number of training tokens: torch.Size([121361219]), validation tokens: torch.Size([255437]), test tokens: torch.Size([292057])\n"
     ]
    }
   ],
   "source": [
    "# Load WikiText-103 dataset\n",
    "dataset = load_dataset(\"wikitext\", \"wikitext-103-raw-v1\")\n",
    "tokenized_dataset = {}\n",
    "\n",
    "# Create tokenized text blobs\n",
    "train_tokens = preprocess_dataset(dataset['train'],tokenizer)\n",
    "val_tokens = preprocess_dataset(dataset['validation'],tokenizer)\n",
    "test_tokens = preprocess_dataset(dataset['test'],tokenizer)\n",
    "print(len(train_tokens), len(val_tokens), len(test_tokens))\n",
    "\n",
    "# Convert to tokenized text tensors\n",
    "train_tensor = torch.squeeze(torch.tensor(train_tokens, dtype=torch.long))\n",
    "val_tensor = torch.tensor(val_tokens, dtype=torch.long)\n",
    "test_tensor = torch.tensor(test_tokens, dtype=torch.long)\n",
    "print(f\"Number of training tokens: {train_tensor.shape}, validation tokens: {val_tensor.shape}, test tokens: {test_tensor.shape}\")"
   ]
  },
  {
   "cell_type": "code",
   "execution_count": 7,
   "metadata": {},
   "outputs": [],
   "source": [
    "from torch.utils.data import Dataset\n",
    "import torch\n",
    "\n",
    "class WikiData(Dataset):\n",
    "    def __init__(self, dataset: Dataset, block_size: int=128, batch_size: int=64):\n",
    "        self.block_size = block_size\n",
    "        self.batch_size = batch_size\n",
    "        self.dataset = dataset\n",
    "        \n",
    "\n",
    "    def __len__(self) -> int:\n",
    "        return self.block_size\n",
    "\n",
    "    def __getitem__(self, idx: int) -> tuple[torch.tensor, torch.tensor]:\n",
    "        x = torch.zeros((self.batch_size,self.block_size + 1), dtype=torch.long)\n",
    "        y = torch.zeros((self.batch_size,self.block_size + 1), dtype=torch.long)\n",
    "        # print(idx)\n",
    "        x = self.dataset[idx:idx+self.block_size]\n",
    "        y = self.dataset[idx+1:idx+self.block_size+1]\n",
    "        return x.to(device), y.to(device)"
   ]
  },
  {
   "cell_type": "code",
   "execution_count": 8,
   "metadata": {},
   "outputs": [],
   "source": [
    "import torch.nn as nn\n",
    "import torch.nn.functional as F\n",
    "\n",
    "class Feedforward(nn.Module):\n",
    "    def __init__(self,emb_dim,dropout) -> None:\n",
    "        super().__init__()\n",
    "        self.ff = nn.Sequential(\n",
    "            nn.Linear(emb_dim, linear_scaleup * emb_dim),\n",
    "            nn.ReLU(),\n",
    "            nn.Linear(linear_scaleup * emb_dim, emb_dim),\n",
    "            nn.Dropout(dropout)\n",
    "        )\n",
    "\n",
    "    def forward(self,x):\n",
    "        return self.ff(x)\n",
    "\n",
    "class Block(nn.Module):\n",
    "    def __init__(self, emb_dim, num_heads, dropout) -> None:\n",
    "        super().__init__()\n",
    "        self.head_size = emb_dim // num_heads\n",
    "        self.sa_head = nn.MultiheadAttention(emb_dim, num_heads, dropout)\n",
    "        self.ff = Feedforward(emb_dim, dropout)\n",
    "        self.ln1 = nn.LayerNorm(emb_dim)\n",
    "        self.ln2 = nn.LayerNorm(emb_dim)\n",
    "\n",
    "    def forward(self, x, targets=None):\n",
    "        x = self.ln1(x)\n",
    "        sa_out, _ = self.sa_head(x,x,x)\n",
    "        x = x + sa_out\n",
    "        x = x + self.ff(self.ln2(x))\n",
    "        return x\n",
    "\n",
    "\n",
    "class Xformer(nn.Module):\n",
    "    def __init__(self, emb_dim, num_heads, dropout): #num_layers = 3 --> needs to be properl parametrized\n",
    "        super().__init__()\n",
    "        self.tok_emb = nn.Embedding(tokenizer.n_vocab, emb_dim)\n",
    "        self.pos_emb = nn.Embedding(tokenizer.n_vocab, emb_dim)\n",
    "        self.blocks = nn.Sequential(\n",
    "            Block(emb_dim, num_heads, dropout), \n",
    "            Block(emb_dim, num_heads, dropout),\n",
    "            Block(emb_dim, num_heads, dropout),\n",
    "            Block(emb_dim, num_heads, dropout), \n",
    "            # Block(emb_dim, num_heads, dropout),\n",
    "            # Block(emb_dim, num_heads, dropout),\n",
    "            nn.LayerNorm(emb_dim)\n",
    "        ) \n",
    "        self.lm_head = nn.Linear(emb_dim, tokenizer.n_vocab)\n",
    "\n",
    "    def forward(self, x, targets=None):\n",
    "        x = self.tok_emb(x) + self.pos_emb(x)\n",
    "        x = self.blocks(x)\n",
    "        logits = self.lm_head(x)\n",
    "\n",
    "        loss = None\n",
    "        if targets is not None:\n",
    "            # print(logits.view(-1, logits.size(-1)).shape, targets.view(-1).shape)\n",
    "            loss = F.cross_entropy(logits.view(-1, logits.size(-1)), targets.view(-1), ignore_index=-1)\n",
    "\n",
    "        return(logits,loss)"
   ]
  },
  {
   "cell_type": "code",
   "execution_count": 9,
   "metadata": {},
   "outputs": [],
   "source": [
    "## Get dataloader for train and  val datasets from training and test data\n",
    "from torch.utils.data import DataLoader\n",
    "train_data_obj = WikiData(train_tensor, block_size=block_size)\n",
    "val_data_obj = WikiData(val_tensor, block_size=block_size)\n",
    "train_dataloader = DataLoader(train_data_obj, batch_size=1)\n",
    "val_dataloader = DataLoader(val_data_obj, batch_size=1)"
   ]
  },
  {
   "cell_type": "code",
   "execution_count": 10,
   "metadata": {},
   "outputs": [
    {
     "name": "stdout",
     "output_type": "stream",
     "text": [
      "torch.Size([1, 128]) torch.Size([1, 128])\n",
      "tensor(11.6413, device='mps:0', grad_fn=<NllLossBackward0>)\n"
     ]
    }
   ],
   "source": [
    "# Single test run\n",
    "from torch.optim import Adam\n",
    "xb, yb = next(iter(train_dataloader))\n",
    "print(xb.shape, yb.shape)\n",
    "model = Xformer(emb_dim, num_heads, dropout).to(device)\n",
    "optimizer = Adam(model.parameters(), lr=0.001)\n",
    "logits, loss = model(xb,yb)\n",
    "print(loss)"
   ]
  },
  {
   "cell_type": "code",
   "execution_count": 11,
   "metadata": {},
   "outputs": [
    {
     "data": {
      "text/plain": [
       "122718005"
      ]
     },
     "execution_count": 11,
     "metadata": {},
     "output_type": "execute_result"
    }
   ],
   "source": [
    "from utils import get_model_size\n",
    "get_model_size(model)"
   ]
  },
  {
   "cell_type": "code",
   "execution_count": 12,
   "metadata": {},
   "outputs": [
    {
     "data": {
      "text/plain": [
       "Text(0, 0.5, 'Loss')"
      ]
     },
     "execution_count": 12,
     "metadata": {},
     "output_type": "execute_result"
    },
    {
     "data": {
      "image/png": "[encoded data removed]",
      "text/plain": [
       "<Figure size 640x480 with 1 Axes>"
      ]
     },
     "metadata": {},
     "output_type": "display_data"
    }
   ],
   "source": [
    "# ## Optimal lr sweep\n",
    "from utils import get_lr_loss\n",
    "import matplotlib.pyplot as plt\n",
    "num_epochs = 100\n",
    "lri, lossi =  get_lr_loss(model, optimizer, train_dataloader, num_epochs, device, -2, -1)\n",
    "plt.plot(lri, lossi)\n",
    "# Add labels to the x-axis and y-axis\n",
    "plt.xlabel('LR (Learning Rate)')\n",
    "plt.ylabel('Loss')"
   ]
  },
  {
   "cell_type": "code",
   "execution_count": 13,
   "metadata": {},
   "outputs": [],
   "source": [
    "train_dataloader = DataLoader(train_data_obj, batch_size=batch_size)\n",
    "val_dataloader = DataLoader(val_data_obj, batch_size=batch_size)\n",
    "tr_loss = []\n",
    "vl_loss = []"
   ]
  },
  {
   "cell_type": "code",
   "execution_count": 14,
   "metadata": {},
   "outputs": [
    {
     "name": "stdout",
     "output_type": "stream",
     "text": [
      "8.550146102905273\n",
      "5.40288782119751\n",
      "ltr:  7.742373466491699 lte:  13.392343521118164 single shot loss: 5.40288782119751\n",
      "7.628645420074463\n",
      "6.652060031890869\n",
      "4.883609771728516\n",
      "4.741697311401367\n",
      "4.680291175842285\n",
      "4.625398635864258\n",
      "4.582026958465576\n",
      "4.5428266525268555\n",
      "4.480504512786865\n",
      "4.42928409576416\n",
      "ltr:  4.351443767547607 lte:  11.190017700195312 single shot loss: 4.42928409576416\n",
      "4.384407997131348\n",
      "4.340149879455566\n",
      "4.358789443969727\n",
      "4.353360652923584\n",
      "4.348776817321777\n",
      "4.344067573547363\n",
      "4.345567226409912\n",
      "4.331995964050293\n",
      "4.322419166564941\n",
      "4.302818298339844\n",
      "ltr:  4.25332498550415 lte:  14.040922164916992 single shot loss: 4.302818298339844\n",
      "4.302260875701904\n",
      "4.298330307006836\n",
      "4.281959056854248\n",
      "4.260782241821289\n",
      "4.23151969909668\n",
      "4.208183765411377\n",
      "4.1749958992004395\n",
      "4.155423641204834\n",
      "4.139967918395996\n",
      "4.126089096069336\n",
      "ltr:  3.947361469268799 lte:  14.579264640808105 single shot loss: 4.126089096069336\n",
      "4.084786415100098\n",
      "4.079926490783691\n",
      "4.082832336425781\n",
      "4.094893455505371\n",
      "4.079407215118408\n",
      "4.070856094360352\n",
      "4.059354782104492\n",
      "4.0926923751831055\n",
      "4.1092915534973145\n",
      "4.112466812133789\n",
      "ltr:  3.9040591716766357 lte:  14.251371383666992 single shot loss: 4.112466812133789\n",
      "4.102169990539551\n",
      "4.136736869812012\n",
      "4.151141166687012\n",
      "4.19249153137207\n",
      "4.187510013580322\n",
      "4.210641860961914\n",
      "4.182611465454102\n",
      "4.175764560699463\n",
      "4.180021286010742\n",
      "4.167026042938232\n",
      "ltr:  4.010894298553467 lte:  13.81566047668457 single shot loss: 4.167026042938232\n",
      "4.12630558013916\n",
      "4.14350700378418\n",
      "4.153580188751221\n",
      "4.181247711181641\n",
      "4.162215232849121\n",
      "4.137803554534912\n",
      "4.132174491882324\n",
      "4.1380486488342285\n",
      "4.115658760070801\n",
      "4.149334907531738\n",
      "ltr:  4.02301025390625 lte:  13.867744445800781 single shot loss: 4.149334907531738\n",
      "4.165782928466797\n",
      "4.166728973388672\n",
      "4.175628662109375\n",
      "4.1684393882751465\n",
      "4.203166961669922\n",
      "4.227247714996338\n",
      "4.241302490234375\n",
      "4.268736839294434\n",
      "4.272208213806152\n",
      "4.362553596496582\n",
      "ltr:  4.472811698913574 lte:  13.537752151489258 single shot loss: 4.362553596496582\n",
      "4.3821306228637695\n",
      "4.39656925201416\n",
      "4.378741264343262\n",
      "4.3837785720825195\n",
      "4.366829872131348\n",
      "4.361476421356201\n",
      "4.358345985412598\n",
      "4.344144344329834\n",
      "4.347143650054932\n",
      "4.345737457275391\n",
      "ltr:  4.318466663360596 lte:  13.127080917358398 single shot loss: 4.345737457275391\n",
      "4.339770317077637\n",
      "4.335746765136719\n",
      "4.33591365814209\n",
      "4.331758499145508\n",
      "4.322793006896973\n",
      "4.319084167480469\n",
      "4.309891700744629\n",
      "4.293306350708008\n",
      "4.274545192718506\n",
      "4.2656965255737305\n",
      "ltr:  4.1934428215026855 lte:  13.122724533081055 single shot loss: 4.2656965255737305\n",
      "4.244094371795654\n",
      "4.233822345733643\n",
      "4.2113165855407715\n",
      "4.20063591003418\n",
      "4.175171375274658\n",
      "4.165046691894531\n",
      "4.143454551696777\n",
      "4.136797904968262\n"
     ]
    }
   ],
   "source": [
    "from utils import evaluate_loss\n",
    "lr = 0.01\n",
    "optimizer = Adam(model.parameters(), lr=lr)\n",
    "for steps in range(100):\n",
    "    xb, yb = next(iter(train_dataloader))\n",
    "    xb = xb.to(device)\n",
    "    yb = yb.to(device)\n",
    "    logits, loss = model(xb,yb)\n",
    "    optimizer.zero_grad(set_to_none=True)\n",
    "    loss.backward()\n",
    "    optimizer.step()\n",
    "    tr_lossi, te_lossi = evaluate_loss(model, train_dataloader, val_dataloader, device, num_batches=10)\n",
    "    tr_loss.append(tr_lossi)\n",
    "    vl_loss.append(te_lossi)\n",
    "    print(loss.item())\n",
    "\n",
    "    if steps % eval_interval-1 == 0:\n",
    "        print('ltr: ', tr_lossi, 'lte: ', te_lossi, 'single shot loss:', loss.item())"
   ]
  },
  {
   "cell_type": "code",
   "execution_count": null,
   "metadata": {},
   "outputs": [],
   "source": []
  }
 ],
 "metadata": {
  "kernelspec": {
   "display_name": "Python 3",
   "language": "python",
   "name": "python3"
  },
  "language_info": {
   "codemirror_mode": {
    "name": "ipython",
    "version": 3
   },
   "file_extension": ".py",
   "mimetype": "text/x-python",
   "name": "python",
   "nbconvert_exporter": "python",
   "pygments_lexer": "ipython3",
   "version": "3.10.13"
  }
 },
 "nbformat": 4,
 "nbformat_minor": 2
}
